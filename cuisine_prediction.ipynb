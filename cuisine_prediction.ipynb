{
 "cells": [
  {
   "cell_type": "code",
   "execution_count": 39,
   "metadata": {},
   "outputs": [],
   "source": [
    "import json\n",
    "import pandas as pd\n",
    "%matplotlib inline\n",
    "from pandas.io.json import json_normalize\n",
    "\n",
    "def load_json(input_path):\n",
    "    json_list = json.load(open(input_path))\n",
    "    return pd.DataFrame.from_dict(json_normalize(json_list), orient='columns')"
   ]
  },
  {
   "cell_type": "code",
   "execution_count": 40,
   "metadata": {},
   "outputs": [
    {
     "data": {
      "text/html": [
       "<div>\n",
       "<style scoped>\n",
       "    .dataframe tbody tr th:only-of-type {\n",
       "        vertical-align: middle;\n",
       "    }\n",
       "\n",
       "    .dataframe tbody tr th {\n",
       "        vertical-align: top;\n",
       "    }\n",
       "\n",
       "    .dataframe thead th {\n",
       "        text-align: right;\n",
       "    }\n",
       "</style>\n",
       "<table border=\"1\" class=\"dataframe\">\n",
       "  <thead>\n",
       "    <tr style=\"text-align: right;\">\n",
       "      <th></th>\n",
       "      <th>cuisine</th>\n",
       "      <th>id</th>\n",
       "      <th>ingredients</th>\n",
       "    </tr>\n",
       "  </thead>\n",
       "  <tbody>\n",
       "    <tr>\n",
       "      <th>0</th>\n",
       "      <td>greek</td>\n",
       "      <td>10259</td>\n",
       "      <td>[romaine lettuce, black olives, grape tomatoes...</td>\n",
       "    </tr>\n",
       "    <tr>\n",
       "      <th>1</th>\n",
       "      <td>southern_us</td>\n",
       "      <td>25693</td>\n",
       "      <td>[plain flour, ground pepper, salt, tomatoes, g...</td>\n",
       "    </tr>\n",
       "    <tr>\n",
       "      <th>2</th>\n",
       "      <td>filipino</td>\n",
       "      <td>20130</td>\n",
       "      <td>[eggs, pepper, salt, mayonaise, cooking oil, g...</td>\n",
       "    </tr>\n",
       "    <tr>\n",
       "      <th>3</th>\n",
       "      <td>indian</td>\n",
       "      <td>22213</td>\n",
       "      <td>[water, vegetable oil, wheat, salt]</td>\n",
       "    </tr>\n",
       "    <tr>\n",
       "      <th>4</th>\n",
       "      <td>indian</td>\n",
       "      <td>13162</td>\n",
       "      <td>[black pepper, shallots, cornflour, cayenne pe...</td>\n",
       "    </tr>\n",
       "  </tbody>\n",
       "</table>\n",
       "</div>"
      ],
      "text/plain": [
       "       cuisine     id                                        ingredients\n",
       "0        greek  10259  [romaine lettuce, black olives, grape tomatoes...\n",
       "1  southern_us  25693  [plain flour, ground pepper, salt, tomatoes, g...\n",
       "2     filipino  20130  [eggs, pepper, salt, mayonaise, cooking oil, g...\n",
       "3       indian  22213                [water, vegetable oil, wheat, salt]\n",
       "4       indian  13162  [black pepper, shallots, cornflour, cayenne pe..."
      ]
     },
     "execution_count": 40,
     "metadata": {},
     "output_type": "execute_result"
    }
   ],
   "source": [
    "from sklearn.model_selection import train_test_split\n",
    "df = load_json('whats_cooking/train.json')\n",
    "df.head()"
   ]
  },
  {
   "cell_type": "markdown",
   "metadata": {},
   "source": [
    "The data contains 3 columns: cuisine, recipe id (we can ignore that since it's not useful) and lists of ingredients."
   ]
  },
  {
   "cell_type": "code",
   "execution_count": 41,
   "metadata": {},
   "outputs": [
    {
     "data": {
      "text/plain": [
       "<matplotlib.text.Text at 0x118deb7f0>"
      ]
     },
     "execution_count": 41,
     "metadata": {},
     "output_type": "execute_result"
    },
    {
     "data": {
      "image/png": "[encoded data removed]",
      "text/plain": [
       "<matplotlib.figure.Figure at 0x12fa7bcc0>"
      ]
     },
     "metadata": {},
     "output_type": "display_data"
    }
   ],
   "source": [
    "df.groupby('cuisine')['id'].nunique().sort_values(). \\\n",
    "plot(kind='barh',color='blue').set_title('number of recipes by cuisine')\n",
    "plt.xlabel('Number of recipes')"
   ]
  },
  {
   "cell_type": "markdown",
   "metadata": {},
   "source": [
    "There are more sample in certain cuisine types such as Italian (nearly 8000) and fewer in certain others such as Brazilian (less than 500)."
   ]
  },
  {
   "cell_type": "markdown",
   "metadata": {},
   "source": [
    "The target variable to predict is the cuisine type. "
   ]
  },
  {
   "cell_type": "markdown",
   "metadata": {},
   "source": [
    "While there is no missing data, I'll do some cleaning on the text to avoid an unnessarily sparse matrix. Later on I'll remove some unnecessary words in the parenthesis such as (1% reduced milk) or (2% reduced milk). "
   ]
  },
  {
   "cell_type": "markdown",
   "metadata": {},
   "source": [
    "I will use one-vs-rest logistic regression because it's widely used, relatively easy to explain and later on returned decent result."
   ]
  },
  {
   "cell_type": "markdown",
   "metadata": {},
   "source": [
    "For evaluation metrics, I will use macro-F1 score (the average precision and recall for each class label). Because it's a multi-class with unbalanced sample size, I do not want to bias towards the majority class such as Italian, so I use macro-F1."
   ]
  },
  {
   "cell_type": "markdown",
   "metadata": {},
   "source": [
    "I'll use 5-fold cross-validation which can be better at reducing variance than simple train/test split."
   ]
  },
  {
   "cell_type": "code",
   "execution_count": 42,
   "metadata": {},
   "outputs": [],
   "source": [
    "#text\n",
    "from sklearn.feature_extraction.text import TfidfVectorizer\n",
    "#classifier\n",
    "from sklearn.preprocessing import LabelEncoder\n",
    "from sklearn.svm import SVC\n",
    "from sklearn.linear_model import LogisticRegression\n",
    "from sklearn.tree import DecisionTreeClassifier\n",
    "from sklearn.ensemble import RandomForestClassifier\n",
    "#performance\n",
    "from sklearn.model_selection import cross_validate"
   ]
  },
  {
   "cell_type": "code",
   "execution_count": 43,
   "metadata": {},
   "outputs": [],
   "source": [
    "X_df = df['ingredients']\n",
    "y_df = df['cuisine']"
   ]
  },
  {
   "cell_type": "markdown",
   "metadata": {},
   "source": [
    "I preprocessed the text using tfidf to identify the uniqueness of ingredients among each cuisine."
   ]
  },
  {
   "cell_type": "code",
   "execution_count": 44,
   "metadata": {},
   "outputs": [
    {
     "name": "stdout",
     "output_type": "stream",
     "text": [
      "Vocab Length:  6713\n",
      "All Data Shape:  (39774, 6713)\n",
      "Number of Predictors:  39774\n"
     ]
    },
    {
     "data": {
      "text/html": [
       "<div>\n",
       "<style scoped>\n",
       "    .dataframe tbody tr th:only-of-type {\n",
       "        vertical-align: middle;\n",
       "    }\n",
       "\n",
       "    .dataframe tbody tr th {\n",
       "        vertical-align: top;\n",
       "    }\n",
       "\n",
       "    .dataframe thead th {\n",
       "        text-align: right;\n",
       "    }\n",
       "</style>\n",
       "<table border=\"1\" class=\"dataframe\">\n",
       "  <thead>\n",
       "    <tr style=\"text-align: right;\">\n",
       "      <th></th>\n",
       "      <th></th>\n",
       "      <th>1 inch thick</th>\n",
       "      <th>1% low-fat buttermilk</th>\n",
       "      <th>1% low-fat chocolate milk</th>\n",
       "      <th>1% low-fat cottage cheese</th>\n",
       "      <th>1% low-fat milk</th>\n",
       "      <th>2 1/2 to 3 lb. chicken</th>\n",
       "      <th>2% low fat cheddar chees</th>\n",
       "      <th>2% low-fat cottage cheese</th>\n",
       "      <th>2% lowfat greek yogurt</th>\n",
       "      <th>...</th>\n",
       "      <th>yukon gold potatoes</th>\n",
       "      <th>yuzu</th>\n",
       "      <th>yuzu juice</th>\n",
       "      <th>za'atar</th>\n",
       "      <th>zest</th>\n",
       "      <th>zesty italian dressing</th>\n",
       "      <th>zinfandel</th>\n",
       "      <th>ziti</th>\n",
       "      <th>zucchini</th>\n",
       "      <th>zucchini blossoms</th>\n",
       "    </tr>\n",
       "  </thead>\n",
       "  <tbody>\n",
       "    <tr>\n",
       "      <th>0</th>\n",
       "      <td>0.0</td>\n",
       "      <td>0.0</td>\n",
       "      <td>0.0</td>\n",
       "      <td>0.0</td>\n",
       "      <td>0.0</td>\n",
       "      <td>0.0</td>\n",
       "      <td>0.0</td>\n",
       "      <td>0.0</td>\n",
       "      <td>0.0</td>\n",
       "      <td>0.0</td>\n",
       "      <td>...</td>\n",
       "      <td>0.0</td>\n",
       "      <td>0.0</td>\n",
       "      <td>0.0</td>\n",
       "      <td>0.0</td>\n",
       "      <td>0.0</td>\n",
       "      <td>0.0</td>\n",
       "      <td>0.0</td>\n",
       "      <td>0.0</td>\n",
       "      <td>0.0</td>\n",
       "      <td>0.0</td>\n",
       "    </tr>\n",
       "    <tr>\n",
       "      <th>1</th>\n",
       "      <td>0.0</td>\n",
       "      <td>0.0</td>\n",
       "      <td>0.0</td>\n",
       "      <td>0.0</td>\n",
       "      <td>0.0</td>\n",
       "      <td>0.0</td>\n",
       "      <td>0.0</td>\n",
       "      <td>0.0</td>\n",
       "      <td>0.0</td>\n",
       "      <td>0.0</td>\n",
       "      <td>...</td>\n",
       "      <td>0.0</td>\n",
       "      <td>0.0</td>\n",
       "      <td>0.0</td>\n",
       "      <td>0.0</td>\n",
       "      <td>0.0</td>\n",
       "      <td>0.0</td>\n",
       "      <td>0.0</td>\n",
       "      <td>0.0</td>\n",
       "      <td>0.0</td>\n",
       "      <td>0.0</td>\n",
       "    </tr>\n",
       "    <tr>\n",
       "      <th>2</th>\n",
       "      <td>0.0</td>\n",
       "      <td>0.0</td>\n",
       "      <td>0.0</td>\n",
       "      <td>0.0</td>\n",
       "      <td>0.0</td>\n",
       "      <td>0.0</td>\n",
       "      <td>0.0</td>\n",
       "      <td>0.0</td>\n",
       "      <td>0.0</td>\n",
       "      <td>0.0</td>\n",
       "      <td>...</td>\n",
       "      <td>0.0</td>\n",
       "      <td>0.0</td>\n",
       "      <td>0.0</td>\n",
       "      <td>0.0</td>\n",
       "      <td>0.0</td>\n",
       "      <td>0.0</td>\n",
       "      <td>0.0</td>\n",
       "      <td>0.0</td>\n",
       "      <td>0.0</td>\n",
       "      <td>0.0</td>\n",
       "    </tr>\n",
       "    <tr>\n",
       "      <th>3</th>\n",
       "      <td>0.0</td>\n",
       "      <td>0.0</td>\n",
       "      <td>0.0</td>\n",
       "      <td>0.0</td>\n",
       "      <td>0.0</td>\n",
       "      <td>0.0</td>\n",
       "      <td>0.0</td>\n",
       "      <td>0.0</td>\n",
       "      <td>0.0</td>\n",
       "      <td>0.0</td>\n",
       "      <td>...</td>\n",
       "      <td>0.0</td>\n",
       "      <td>0.0</td>\n",
       "      <td>0.0</td>\n",
       "      <td>0.0</td>\n",
       "      <td>0.0</td>\n",
       "      <td>0.0</td>\n",
       "      <td>0.0</td>\n",
       "      <td>0.0</td>\n",
       "      <td>0.0</td>\n",
       "      <td>0.0</td>\n",
       "    </tr>\n",
       "    <tr>\n",
       "      <th>4</th>\n",
       "      <td>0.0</td>\n",
       "      <td>0.0</td>\n",
       "      <td>0.0</td>\n",
       "      <td>0.0</td>\n",
       "      <td>0.0</td>\n",
       "      <td>0.0</td>\n",
       "      <td>0.0</td>\n",
       "      <td>0.0</td>\n",
       "      <td>0.0</td>\n",
       "      <td>0.0</td>\n",
       "      <td>...</td>\n",
       "      <td>0.0</td>\n",
       "      <td>0.0</td>\n",
       "      <td>0.0</td>\n",
       "      <td>0.0</td>\n",
       "      <td>0.0</td>\n",
       "      <td>0.0</td>\n",
       "      <td>0.0</td>\n",
       "      <td>0.0</td>\n",
       "      <td>0.0</td>\n",
       "      <td>0.0</td>\n",
       "    </tr>\n",
       "  </tbody>\n",
       "</table>\n",
       "<p>5 rows × 6713 columns</p>\n",
       "</div>"
      ],
      "text/plain": [
       "        1 inch thick  1% low-fat buttermilk  1% low-fat chocolate milk  \\\n",
       "0  0.0           0.0                    0.0                        0.0   \n",
       "1  0.0           0.0                    0.0                        0.0   \n",
       "2  0.0           0.0                    0.0                        0.0   \n",
       "3  0.0           0.0                    0.0                        0.0   \n",
       "4  0.0           0.0                    0.0                        0.0   \n",
       "\n",
       "   1% low-fat cottage cheese  1% low-fat milk  2 1/2 to 3 lb. chicken  \\\n",
       "0                        0.0              0.0                     0.0   \n",
       "1                        0.0              0.0                     0.0   \n",
       "2                        0.0              0.0                     0.0   \n",
       "3                        0.0              0.0                     0.0   \n",
       "4                        0.0              0.0                     0.0   \n",
       "\n",
       "   2% low fat cheddar chees  2% low-fat cottage cheese  \\\n",
       "0                       0.0                        0.0   \n",
       "1                       0.0                        0.0   \n",
       "2                       0.0                        0.0   \n",
       "3                       0.0                        0.0   \n",
       "4                       0.0                        0.0   \n",
       "\n",
       "   2% lowfat greek yogurt        ...          yukon gold potatoes  yuzu  \\\n",
       "0                     0.0        ...                          0.0   0.0   \n",
       "1                     0.0        ...                          0.0   0.0   \n",
       "2                     0.0        ...                          0.0   0.0   \n",
       "3                     0.0        ...                          0.0   0.0   \n",
       "4                     0.0        ...                          0.0   0.0   \n",
       "\n",
       "   yuzu juice  za'atar  zest  zesty italian dressing  zinfandel  ziti  \\\n",
       "0         0.0      0.0   0.0                     0.0        0.0   0.0   \n",
       "1         0.0      0.0   0.0                     0.0        0.0   0.0   \n",
       "2         0.0      0.0   0.0                     0.0        0.0   0.0   \n",
       "3         0.0      0.0   0.0                     0.0        0.0   0.0   \n",
       "4         0.0      0.0   0.0                     0.0        0.0   0.0   \n",
       "\n",
       "   zucchini  zucchini blossoms  \n",
       "0       0.0                0.0  \n",
       "1       0.0                0.0  \n",
       "2       0.0                0.0  \n",
       "3       0.0                0.0  \n",
       "4       0.0                0.0  \n",
       "\n",
       "[5 rows x 6713 columns]"
      ]
     },
     "execution_count": 44,
     "metadata": {},
     "output_type": "execute_result"
    }
   ],
   "source": [
    "from sklearn.feature_extraction.text import CountVectorizer\n",
    "from sklearn.pipeline import Pipeline\n",
    "import re\n",
    "\n",
    "#split to pre-process text \n",
    "vect = TfidfVectorizer(tokenizer=lambda x: [re.sub(r'\\(.*?\\)','',i).strip() for i in x.split(',')], \n",
    "                       lowercase=False, stop_words='english')\n",
    "\n",
    "#then join to fit transform strings\n",
    "dummies = vect.fit_transform(X_df.apply(','.join)) \n",
    "\n",
    "df_transformed = pd.DataFrame(dummies.todense(),columns=vect.get_feature_names())\n",
    "print(\"Vocab Length: \", len(vect.get_feature_names()))\n",
    "print(\"All Data Shape: \", df_transformed.shape)\n",
    "print(\"Number of Predictors: \", df_transformed.shape[0])\n",
    "df_transformed.head()"
   ]
  },
  {
   "cell_type": "code",
   "execution_count": 45,
   "metadata": {},
   "outputs": [
    {
     "name": "stdout",
     "output_type": "stream",
     "text": [
      "(39774, 6713) (39774,)\n"
     ]
    }
   ],
   "source": [
    "print(df_transformed.shape, y_df.shape)"
   ]
  },
  {
   "cell_type": "code",
   "execution_count": 46,
   "metadata": {},
   "outputs": [
    {
     "data": {
      "text/plain": [
       "{'fit_time': array([ 11.82908106,  10.22344494,   8.36979103,   7.28031087,   6.36447096]),\n",
       " 'score_time': array([ 0.97562599,  0.94243193,  0.978163  ,  0.204319  ,  0.22437   ]),\n",
       " 'test_score': array([ 0.76312484,  0.7729329 ,  0.76382604,  0.76443215,  0.76758525])}"
      ]
     },
     "execution_count": 46,
     "metadata": {},
     "output_type": "execute_result"
    }
   ],
   "source": [
    "model = LogisticRegression(multi_class= 'ovr')\n",
    "score = cross_validate(model, df_transformed, y_df, cv=5, return_train_score=False)\n",
    "score"
   ]
  },
  {
   "cell_type": "code",
   "execution_count": 47,
   "metadata": {},
   "outputs": [
    {
     "data": {
      "text/plain": [
       "0.76638023663025934"
      ]
     },
     "execution_count": 47,
     "metadata": {},
     "output_type": "execute_result"
    }
   ],
   "source": [
    "score['test_score'].mean()"
   ]
  },
  {
   "cell_type": "code",
   "execution_count": 48,
   "metadata": {},
   "outputs": [],
   "source": [
    "from sklearn.model_selection import cross_val_predict\n",
    "from sklearn.metrics import confusion_matrix\n",
    "from sklearn.metrics import make_scorer, accuracy_score, precision_score, recall_score, f1_score\n",
    "from sklearn.model_selection import KFold, cross_val_score\n",
    "labels=y_df.unique()\n",
    "labels\n",
    "y_pred = cross_val_predict(model, df_transformed, y_df, cv=5)\n",
    "conf_mat = confusion_matrix(y_df, y_pred, labels)\n",
    "cm_df = pd.DataFrame(conf_mat,\n",
    "                     index = labels, \n",
    "                     columns = labels)"
   ]
  },
  {
   "cell_type": "code",
   "execution_count": 49,
   "metadata": {},
   "outputs": [
    {
     "data": {
      "image/png": "[encoded data removed]",
      "text/plain": [
       "<matplotlib.figure.Figure at 0x11ab9c898>"
      ]
     },
     "metadata": {},
     "output_type": "display_data"
    }
   ],
   "source": [
    "#plot multi-class confusion matrix\n",
    "plt.figure(figsize=(16,16))\n",
    "ax=sns.heatmap(conf_mat, annot=True, cmap=\"YlGnBu\", xticklabels=labels, yticklabels=labels, fmt='d')\n",
    "plt.title('Logistic regression \\nAccuracy:{0:.3f}'.format(score['test_score'].mean()))\n",
    "plt.ylabel('True label')\n",
    "plt.xlabel('Predicted label')\n",
    "plt.show()"
   ]
  },
  {
   "cell_type": "markdown",
   "metadata": {},
   "source": [
    "Based on the confusion matrix, we can tell majority of the predictions end on the diagnoal which means correct classification. However, we also notice certain misclassification such as French or Spanish cuision misclassified as Italian or Cajun Creole misclassified as Southern US. There are indeed some similarity between these cusine types, possibly due to geographical proximity and diaspora. "
   ]
  },
  {
   "cell_type": "markdown",
   "metadata": {},
   "source": [
    "Next we look into some example of the misclassified cases, including the misclassified categories we identified from the confusion matrix."
   ]
  },
  {
   "cell_type": "code",
   "execution_count": 50,
   "metadata": {},
   "outputs": [
    {
     "data": {
      "text/html": [
       "<div>\n",
       "<style scoped>\n",
       "    .dataframe tbody tr th:only-of-type {\n",
       "        vertical-align: middle;\n",
       "    }\n",
       "\n",
       "    .dataframe tbody tr th {\n",
       "        vertical-align: top;\n",
       "    }\n",
       "\n",
       "    .dataframe thead th {\n",
       "        text-align: right;\n",
       "    }\n",
       "</style>\n",
       "<table border=\"1\" class=\"dataframe\">\n",
       "  <thead>\n",
       "    <tr style=\"text-align: right;\">\n",
       "      <th></th>\n",
       "      <th>predicted</th>\n",
       "      <th>actual</th>\n",
       "      <th>ingredients</th>\n",
       "    </tr>\n",
       "  </thead>\n",
       "  <tbody>\n",
       "    <tr>\n",
       "      <th>5</th>\n",
       "      <td>southern_us</td>\n",
       "      <td>jamaican</td>\n",
       "      <td>[plain flour, sugar, butter, eggs, fresh ginge...</td>\n",
       "    </tr>\n",
       "    <tr>\n",
       "      <th>6</th>\n",
       "      <td>mexican</td>\n",
       "      <td>spanish</td>\n",
       "      <td>[olive oil, salt, medium shrimp, pepper, garli...</td>\n",
       "    </tr>\n",
       "    <tr>\n",
       "      <th>14</th>\n",
       "      <td>french</td>\n",
       "      <td>italian</td>\n",
       "      <td>[fresh parmesan cheese, butter, all-purpose fl...</td>\n",
       "    </tr>\n",
       "    <tr>\n",
       "      <th>16</th>\n",
       "      <td>italian</td>\n",
       "      <td>british</td>\n",
       "      <td>[greek yogurt, lemon curd, confectioners sugar...</td>\n",
       "    </tr>\n",
       "    <tr>\n",
       "      <th>18</th>\n",
       "      <td>vietnamese</td>\n",
       "      <td>thai</td>\n",
       "      <td>[sugar, hot chili, asian fish sauce, lime juice]</td>\n",
       "    </tr>\n",
       "    <tr>\n",
       "      <th>19</th>\n",
       "      <td>chinese</td>\n",
       "      <td>vietnamese</td>\n",
       "      <td>[soy sauce, vegetable oil, red bell pepper, ch...</td>\n",
       "    </tr>\n",
       "    <tr>\n",
       "      <th>22</th>\n",
       "      <td>italian</td>\n",
       "      <td>southern_us</td>\n",
       "      <td>[low-fat mayonnaise, pepper, salt, baking pota...</td>\n",
       "    </tr>\n",
       "    <tr>\n",
       "      <th>23</th>\n",
       "      <td>thai</td>\n",
       "      <td>chinese</td>\n",
       "      <td>[sesame seeds, red pepper, yellow peppers, wat...</td>\n",
       "    </tr>\n",
       "    <tr>\n",
       "      <th>26</th>\n",
       "      <td>indian</td>\n",
       "      <td>cajun_creole</td>\n",
       "      <td>[herbs, lemon juice, fresh tomatoes, paprika, ...</td>\n",
       "    </tr>\n",
       "    <tr>\n",
       "      <th>30</th>\n",
       "      <td>southern_us</td>\n",
       "      <td>italian</td>\n",
       "      <td>[yellow corn meal, boiling water, butter, fres...</td>\n",
       "    </tr>\n",
       "  </tbody>\n",
       "</table>\n",
       "</div>"
      ],
      "text/plain": [
       "      predicted        actual  \\\n",
       "5   southern_us      jamaican   \n",
       "6       mexican       spanish   \n",
       "14       french       italian   \n",
       "16      italian       british   \n",
       "18   vietnamese          thai   \n",
       "19      chinese    vietnamese   \n",
       "22      italian   southern_us   \n",
       "23         thai       chinese   \n",
       "26       indian  cajun_creole   \n",
       "30  southern_us       italian   \n",
       "\n",
       "                                          ingredients  \n",
       "5   [plain flour, sugar, butter, eggs, fresh ginge...  \n",
       "6   [olive oil, salt, medium shrimp, pepper, garli...  \n",
       "14  [fresh parmesan cheese, butter, all-purpose fl...  \n",
       "16  [greek yogurt, lemon curd, confectioners sugar...  \n",
       "18   [sugar, hot chili, asian fish sauce, lime juice]  \n",
       "19  [soy sauce, vegetable oil, red bell pepper, ch...  \n",
       "22  [low-fat mayonnaise, pepper, salt, baking pota...  \n",
       "23  [sesame seeds, red pepper, yellow peppers, wat...  \n",
       "26  [herbs, lemon juice, fresh tomatoes, paprika, ...  \n",
       "30  [yellow corn meal, boiling water, butter, fres...  "
      ]
     },
     "execution_count": 50,
     "metadata": {},
     "output_type": "execute_result"
    }
   ],
   "source": [
    "#index for misclassified items\n",
    "idx=np.where(y_df!=y_pred)\n",
    "misclassification=pd.concat([pd.DataFrame(y_pred).iloc[idx],pd.DataFrame(y_df).iloc[idx],X_df.iloc[idx]], axis=1)\n",
    "misclassification.columns=['predicted','actual','ingredients']\n",
    "misclassification.head(10)"
   ]
  },
  {
   "cell_type": "code",
   "execution_count": 51,
   "metadata": {},
   "outputs": [
    {
     "data": {
      "text/html": [
       "<div>\n",
       "<style scoped>\n",
       "    .dataframe tbody tr th:only-of-type {\n",
       "        vertical-align: middle;\n",
       "    }\n",
       "\n",
       "    .dataframe tbody tr th {\n",
       "        vertical-align: top;\n",
       "    }\n",
       "\n",
       "    .dataframe thead th {\n",
       "        text-align: right;\n",
       "    }\n",
       "</style>\n",
       "<table border=\"1\" class=\"dataframe\">\n",
       "  <thead>\n",
       "    <tr style=\"text-align: right;\">\n",
       "      <th></th>\n",
       "      <th>predicted</th>\n",
       "      <th>actual</th>\n",
       "      <th>ingredients</th>\n",
       "    </tr>\n",
       "  </thead>\n",
       "  <tbody>\n",
       "    <tr>\n",
       "      <th>78</th>\n",
       "      <td>chinese</td>\n",
       "      <td>japanese</td>\n",
       "      <td>[top round steak, vegetable oil, shiitake, soy...</td>\n",
       "    </tr>\n",
       "    <tr>\n",
       "      <th>154</th>\n",
       "      <td>chinese</td>\n",
       "      <td>japanese</td>\n",
       "      <td>[ground pepper, flour, garlic, onions, fresh g...</td>\n",
       "    </tr>\n",
       "    <tr>\n",
       "      <th>205</th>\n",
       "      <td>chinese</td>\n",
       "      <td>japanese</td>\n",
       "      <td>[hoisin sauce, corn starch, green onions, extr...</td>\n",
       "    </tr>\n",
       "  </tbody>\n",
       "</table>\n",
       "</div>"
      ],
      "text/plain": [
       "    predicted    actual                                        ingredients\n",
       "78    chinese  japanese  [top round steak, vegetable oil, shiitake, soy...\n",
       "154   chinese  japanese  [ground pepper, flour, garlic, onions, fresh g...\n",
       "205   chinese  japanese  [hoisin sauce, corn starch, green onions, extr..."
      ]
     },
     "execution_count": 51,
     "metadata": {},
     "output_type": "execute_result"
    }
   ],
   "source": [
    "#japanese misclassified as chinese food\n",
    "jp_cn = (misclassification['predicted'] =='chinese') & (misclassification['actual'] =='japanese')\n",
    "misclassification[jp_cn].head(3)"
   ]
  },
  {
   "cell_type": "code",
   "execution_count": 52,
   "metadata": {},
   "outputs": [
    {
     "data": {
      "text/html": [
       "<div>\n",
       "<style scoped>\n",
       "    .dataframe tbody tr th:only-of-type {\n",
       "        vertical-align: middle;\n",
       "    }\n",
       "\n",
       "    .dataframe tbody tr th {\n",
       "        vertical-align: top;\n",
       "    }\n",
       "\n",
       "    .dataframe thead th {\n",
       "        text-align: right;\n",
       "    }\n",
       "</style>\n",
       "<table border=\"1\" class=\"dataframe\">\n",
       "  <thead>\n",
       "    <tr style=\"text-align: right;\">\n",
       "      <th></th>\n",
       "      <th>predicted</th>\n",
       "      <th>actual</th>\n",
       "      <th>ingredients</th>\n",
       "    </tr>\n",
       "  </thead>\n",
       "  <tbody>\n",
       "    <tr>\n",
       "      <th>1770</th>\n",
       "      <td>chinese</td>\n",
       "      <td>southern_us</td>\n",
       "      <td>[soy sauce, red pepper flakes, lime, white sug...</td>\n",
       "    </tr>\n",
       "    <tr>\n",
       "      <th>3774</th>\n",
       "      <td>chinese</td>\n",
       "      <td>southern_us</td>\n",
       "      <td>[garlic powder, pork spareribs, sesame seeds, ...</td>\n",
       "    </tr>\n",
       "    <tr>\n",
       "      <th>10097</th>\n",
       "      <td>chinese</td>\n",
       "      <td>southern_us</td>\n",
       "      <td>[white bread, egg whites, white sugar, soy sau...</td>\n",
       "    </tr>\n",
       "  </tbody>\n",
       "</table>\n",
       "</div>"
      ],
      "text/plain": [
       "      predicted       actual  \\\n",
       "1770    chinese  southern_us   \n",
       "3774    chinese  southern_us   \n",
       "10097   chinese  southern_us   \n",
       "\n",
       "                                             ingredients  \n",
       "1770   [soy sauce, red pepper flakes, lime, white sug...  \n",
       "3774   [garlic powder, pork spareribs, sesame seeds, ...  \n",
       "10097  [white bread, egg whites, white sugar, soy sau...  "
      ]
     },
     "execution_count": 52,
     "metadata": {},
     "output_type": "execute_result"
    }
   ],
   "source": [
    "#Southern US misclassified as Chinese food\n",
    "cn_us = (misclassification['predicted'] =='chinese') & (misclassification['actual'] =='southern_us')\n",
    "misclassification[cn_us].head(3)"
   ]
  },
  {
   "cell_type": "markdown",
   "metadata": {},
   "source": [
    "Based on the observations of misclassified samples, we have the following insights:\n",
    "\n",
    "1. pastries can be easily misclassified. It's generally hard to tell the cuisine types of a pastry by just looking at the ingredients without the cooking steps, because they largely share ingredients like flour, sugar, butter, etc. \n",
    "2. some ingredient list in the dataset are too short to contain distinctive information, such as the vietnamese dish misclassified as thai, from the ingredients list of fish sauce and hot chili it's actually impossible to even manually classify because these are commonly shared ingredients.\n",
    "3. shared distinctive ingredients between cuisines still pose a challenge. For example, corn meal is a common ingredients in both Southern US cooking and North Italian, and soy sauce is used in both Chinese and Japanese cuisines."
   ]
  },
  {
   "cell_type": "markdown",
   "metadata": {},
   "source": [
    "Classification report for each class"
   ]
  },
  {
   "cell_type": "code",
   "execution_count": 53,
   "metadata": {},
   "outputs": [
    {
     "name": "stdout",
     "output_type": "stream",
     "text": [
      "              precision    recall  f1-score   support\n",
      "\n",
      "       greek       0.83      0.37      0.51       467\n",
      " southern_us       0.63      0.29      0.39       804\n",
      "    filipino       0.80      0.67      0.73      1546\n",
      "      indian       0.77      0.87      0.82      2673\n",
      "    jamaican       0.78      0.55      0.65       755\n",
      "     spanish       0.59      0.60      0.59      2646\n",
      "     italian       0.83      0.61      0.71      1175\n",
      "     mexican       0.85      0.91      0.88      3003\n",
      "     chinese       0.72      0.35      0.47       667\n",
      "     british       0.74      0.91      0.82      7838\n",
      "        thai       0.90      0.56      0.69       526\n",
      "  vietnamese       0.88      0.64      0.74      1423\n",
      "cajun_creole       0.89      0.69      0.78       830\n",
      "   brazilian       0.87      0.92      0.90      6438\n",
      "      french       0.87      0.68      0.76       821\n",
      "    japanese       0.73      0.30      0.42       489\n",
      "       irish       0.66      0.81      0.73      4320\n",
      "      korean       0.73      0.37      0.49       989\n",
      "    moroccan       0.78      0.75      0.76      1539\n",
      "     russian       0.76      0.49      0.60       825\n",
      "\n",
      " avg / total       0.77      0.77      0.76     39774\n",
      "\n"
     ]
    }
   ],
   "source": [
    "from sklearn.metrics import classification_report\n",
    "print(classification_report(y_df, y_pred, target_names=labels))"
   ]
  },
  {
   "cell_type": "markdown",
   "metadata": {},
   "source": [
    "Overall the model achieved 0.76 f1-score.   \n",
    "The precision is generally high but recall is low especially among the Greek, Southern US and Asian cuisines such as Chinese, Japanese and Korean.   \n",
    "Looking at confusion matrix, there are many Japanese/Korean food misclassified as Chinese, while the majority of misclassfication from Chinese food goes into Southern US label, this is because there are indeed American Chinese recipes in the dataset labelled as 'Southern US'."
   ]
  },
  {
   "cell_type": "markdown",
   "metadata": {},
   "source": [
    "Possible ways of improving the classifier include:\n",
    "1. further cleaning text data such as combining 'yuzu' and 'yuzu juice' \n",
    "2. consider removing pastries and cakes (ingredients containing all-purpose flour and butter) that aren't obviously related to a specific cuisine \n",
    "3. using stacking of different classifiers\n",
    "4. adopt deep learning techniques"
   ]
  }
 ],
 "metadata": {
  "kernelspec": {
   "display_name": "Python 3",
   "language": "python",
   "name": "python3"
  },
  "language_info": {
   "codemirror_mode": {
    "name": "ipython",
    "version": 3
   },
   "file_extension": ".py",
   "mimetype": "text/x-python",
   "name": "python",
   "nbconvert_exporter": "python",
   "pygments_lexer": "ipython3",
   "version": "3.6.0"
  }
 },
 "nbformat": 4,
 "nbformat_minor": 2
}
