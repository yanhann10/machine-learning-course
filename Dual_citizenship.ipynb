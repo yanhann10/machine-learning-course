{
 "cells": [
  {
   "cell_type": "markdown",
   "metadata": {},
   "source": [
    "# A History of Dual Citizenships"
   ]
  },
  {
   "cell_type": "markdown",
   "metadata": {},
   "source": [
    "To what extent has countries allowed dual citizenship and how has it changed? What unique characteristics can we glean from the countries allowing or disallowing dual citizenship schemes? What can diaspora data tell us about countries allowing multiple citizenship?"
   ]
  },
  {
   "cell_type": "markdown",
   "metadata": {},
   "source": [
    "The MACIMIDE Global Expatriate Dual Citizenship Dataset compiled the dual citizenship rules that existed in near all sovereign states of the world for the past half a centry. It contains country name, 3-letter ISO codes and describes 3 policy frameworks: \n",
    "* Upon acquicing another citizenship, the original citizenship is automatically renounced\n",
    "* One gets to keep original citizenship, but also have the possibility to voluntarily renounce their citizenship of origin.\n",
    "* One gets to keep original citizenship, and couldn't renounce it."
   ]
  },
  {
   "cell_type": "code",
   "execution_count": 1,
   "metadata": {},
   "outputs": [],
   "source": [
    "import datetime\n",
    "import pandas as pd\n",
    "import numpy as np\n",
    "import matplotlib.pyplot as plt\n",
    "import matplotlib.ticker as mtick\n",
    "import seaborn as sns\n",
    "from ipywidgets import interact, interactive\n",
    "plt.style.use('fivethirtyeight')\n",
    "%matplotlib inline"
   ]
  },
  {
   "cell_type": "markdown",
   "metadata": {},
   "source": [
    "## Pre-processing"
   ]
  },
  {
   "cell_type": "code",
   "execution_count": 2,
   "metadata": {},
   "outputs": [
    {
     "name": "stdout",
     "output_type": "stream",
     "text": [
      "(11800, 13)\n"
     ]
    },
    {
     "data": {
      "text/html": [
       "<div>\n",
       "<style scoped>\n",
       "    .dataframe tbody tr th:only-of-type {\n",
       "        vertical-align: middle;\n",
       "    }\n",
       "\n",
       "    .dataframe tbody tr th {\n",
       "        vertical-align: top;\n",
       "    }\n",
       "\n",
       "    .dataframe thead th {\n",
       "        text-align: right;\n",
       "    }\n",
       "</style>\n",
       "<table border=\"1\" class=\"dataframe\">\n",
       "  <thead>\n",
       "    <tr style=\"text-align: right;\">\n",
       "      <th></th>\n",
       "      <th>caseid</th>\n",
       "      <th>ISO3</th>\n",
       "      <th>ISO2</th>\n",
       "      <th>country</th>\n",
       "      <th>country_code</th>\n",
       "      <th>dependency_code</th>\n",
       "      <th>world_region</th>\n",
       "      <th>longitude</th>\n",
       "      <th>latitude</th>\n",
       "      <th>Year</th>\n",
       "      <th>Dualcit_cat</th>\n",
       "      <th>Dualcit_grouped</th>\n",
       "      <th>Dualcit_binary</th>\n",
       "    </tr>\n",
       "  </thead>\n",
       "  <tbody>\n",
       "    <tr>\n",
       "      <th>0</th>\n",
       "      <td>1</td>\n",
       "      <td>AFG</td>\n",
       "      <td>AF</td>\n",
       "      <td>Afghanistan</td>\n",
       "      <td>4</td>\n",
       "      <td>NaN</td>\n",
       "      <td>2.0</td>\n",
       "      <td>691761.0</td>\n",
       "      <td>345228.0</td>\n",
       "      <td>1960</td>\n",
       "      <td>210</td>\n",
       "      <td>2</td>\n",
       "      <td>2</td>\n",
       "    </tr>\n",
       "    <tr>\n",
       "      <th>1</th>\n",
       "      <td>2</td>\n",
       "      <td>AFG</td>\n",
       "      <td>AF</td>\n",
       "      <td>Afghanistan</td>\n",
       "      <td>4</td>\n",
       "      <td>NaN</td>\n",
       "      <td>2.0</td>\n",
       "      <td>691761.0</td>\n",
       "      <td>345228.0</td>\n",
       "      <td>1961</td>\n",
       "      <td>210</td>\n",
       "      <td>2</td>\n",
       "      <td>2</td>\n",
       "    </tr>\n",
       "    <tr>\n",
       "      <th>2</th>\n",
       "      <td>3</td>\n",
       "      <td>AFG</td>\n",
       "      <td>AF</td>\n",
       "      <td>Afghanistan</td>\n",
       "      <td>4</td>\n",
       "      <td>NaN</td>\n",
       "      <td>2.0</td>\n",
       "      <td>691761.0</td>\n",
       "      <td>345228.0</td>\n",
       "      <td>1962</td>\n",
       "      <td>210</td>\n",
       "      <td>2</td>\n",
       "      <td>2</td>\n",
       "    </tr>\n",
       "    <tr>\n",
       "      <th>3</th>\n",
       "      <td>4</td>\n",
       "      <td>AFG</td>\n",
       "      <td>AF</td>\n",
       "      <td>Afghanistan</td>\n",
       "      <td>4</td>\n",
       "      <td>NaN</td>\n",
       "      <td>2.0</td>\n",
       "      <td>691761.0</td>\n",
       "      <td>345228.0</td>\n",
       "      <td>1963</td>\n",
       "      <td>210</td>\n",
       "      <td>2</td>\n",
       "      <td>2</td>\n",
       "    </tr>\n",
       "    <tr>\n",
       "      <th>4</th>\n",
       "      <td>5</td>\n",
       "      <td>AFG</td>\n",
       "      <td>AF</td>\n",
       "      <td>Afghanistan</td>\n",
       "      <td>4</td>\n",
       "      <td>NaN</td>\n",
       "      <td>2.0</td>\n",
       "      <td>691761.0</td>\n",
       "      <td>345228.0</td>\n",
       "      <td>1964</td>\n",
       "      <td>210</td>\n",
       "      <td>2</td>\n",
       "      <td>2</td>\n",
       "    </tr>\n",
       "  </tbody>\n",
       "</table>\n",
       "</div>"
      ],
      "text/plain": [
       "   caseid ISO3 ISO2      country  country_code  dependency_code  world_region  \\\n",
       "0       1  AFG   AF  Afghanistan             4              NaN           2.0   \n",
       "1       2  AFG   AF  Afghanistan             4              NaN           2.0   \n",
       "2       3  AFG   AF  Afghanistan             4              NaN           2.0   \n",
       "3       4  AFG   AF  Afghanistan             4              NaN           2.0   \n",
       "4       5  AFG   AF  Afghanistan             4              NaN           2.0   \n",
       "\n",
       "   longitude  latitude  Year  Dualcit_cat  Dualcit_grouped  Dualcit_binary  \n",
       "0   691761.0  345228.0  1960          210                2               2  \n",
       "1   691761.0  345228.0  1961          210                2               2  \n",
       "2   691761.0  345228.0  1962          210                2               2  \n",
       "3   691761.0  345228.0  1963          210                2               2  \n",
       "4   691761.0  345228.0  1964          210                2               2  "
      ]
     },
     "execution_count": 2,
     "metadata": {},
     "output_type": "execute_result"
    }
   ],
   "source": [
    "df_raw = pd.read_csv(\"multiple_citizenship_data/dual_citizenship.csv\")\n",
    "print(df_raw.shape)\n",
    "df_raw.head()"
   ]
  },
  {
   "cell_type": "code",
   "execution_count": 3,
   "metadata": {},
   "outputs": [],
   "source": [
    "df = df_raw\n",
    "df['region']=df.world_region.replace(1.0,'Africa') \\\n",
    "    .replace(2.0,'Asia') \\\n",
    "    .replace(3.0,'Europe') \\\n",
    "    .replace(4.0,'LTAM') \\\n",
    "    .replace(5.0,'North America') \\\n",
    "    .replace(6.0,'Oceania') "
   ]
  },
  {
   "cell_type": "code",
   "execution_count": 4,
   "metadata": {},
   "outputs": [],
   "source": [
    "def category (code):\n",
    "   #based on data codebook\n",
    "    if (code in [110,111,112]):\n",
    "        return 'No dual citizenship'\n",
    "    elif code in [210,211,212,220]:\n",
    "        return 'Not automatically renounced'\n",
    "    elif code in [310,320,330]:\n",
    "        return 'Dual citizenship'\n",
    "    else:\n",
    "        return 'Other'\n",
    "    \n",
    "df['category']=df_raw['Dualcit_cat'].map(category)"
   ]
  },
  {
   "cell_type": "markdown",
   "metadata": {},
   "source": [
    "## Cautions"
   ]
  },
  {
   "cell_type": "markdown",
   "metadata": {},
   "source": [
    "Some organizations such as Quartz.com reports the 'no automatic renounciation' grouped under 'dual citizenship allowed'. Strickly speaking, it shouldn't be. This is a broad and grey category best treated on its own. For example, Canada and Singapore are both in this category, but Canadians can process multiple passports while in Singapore it is only possible up to 18 years old and by constitution dual citizenship is not allowed. For the accuracy of the analysis, we'll keep the policy in 3 categories instead of 2 categories which would otherwise result in misleadingly high numbers.   \n",
    "There are also situations where a country only allow dual citizenships with certain other countries which is beyond this dataset.   \n",
    "In addition, it might also be useful to alert to the fact that the dataset was a manual collection based on many different legislative documents and data quality cannot be inspected solely by looking at distributions."
   ]
  },
  {
   "cell_type": "markdown",
   "metadata": {},
   "source": [
    "## EDA"
   ]
  },
  {
   "cell_type": "code",
   "execution_count": 5,
   "metadata": {},
   "outputs": [
    {
     "name": "stdout",
     "output_type": "stream",
     "text": [
      "region\n",
      "Africa           54\n",
      "Asia             48\n",
      "Europe           49\n",
      "LTAM             33\n",
      "North America     2\n",
      "Oceania          14\n",
      "Name: country, dtype: int64\n"
     ]
    },
    {
     "data": {
      "text/plain": [
       "region\n",
       "Africa           [Algeria, Angola, Benin, Botswana, Burkina Fas...\n",
       "Asia             [Afghanistan, Armenia, Azerbaijan, Bahrain, Ba...\n",
       "Europe           [Albania, Andorra, Austria, Belarus, Belgium, ...\n",
       "LTAM             [Antigua and Barbuda, Argentina, Bahamas, Barb...\n",
       "North America                   [Canada, United States of America]\n",
       "Oceania          [Australia, Fiji, Kiribati, Marshall Islands, ...\n",
       "Name: country, dtype: object"
      ]
     },
     "execution_count": 5,
     "metadata": {},
     "output_type": "execute_result"
    }
   ],
   "source": [
    "#number of unique countries by continents\n",
    "print(df.groupby('region')['country'].nunique())\n",
    "\n",
    "#example countries\n",
    "unique_cntry = df.groupby('region')['country'].unique()\n",
    "unique_cntry"
   ]
  },
  {
   "cell_type": "code",
   "execution_count": 6,
   "metadata": {},
   "outputs": [],
   "source": [
    "#remove countries with no info\n",
    "df=df.query('category!=\"Other\"')"
   ]
  },
  {
   "cell_type": "markdown",
   "metadata": {},
   "source": [
    "For the countries missing dual citizenship data, we'll remove them as they add no extra information, and there is no way to impute them besides manually gathering info which is beyond the scope of this analysis."
   ]
  },
  {
   "cell_type": "code",
   "execution_count": 7,
   "metadata": {},
   "outputs": [
    {
     "data": {
      "text/plain": [
       "caseid                0\n",
       "ISO3                  0\n",
       "ISO2                 28\n",
       "country               0\n",
       "country_code          0\n",
       "dependency_code    5481\n",
       "world_region        143\n",
       "longitude             0\n",
       "latitude              0\n",
       "Year                  0\n",
       "Dualcit_cat           0\n",
       "Dualcit_grouped       0\n",
       "Dualcit_binary        0\n",
       "region              143\n",
       "category              0\n",
       "dtype: int64"
      ]
     },
     "execution_count": 7,
     "metadata": {},
     "output_type": "execute_result"
    }
   ],
   "source": [
    "#check for missing value\n",
    "df.isnull().sum()"
   ]
  },
  {
   "cell_type": "code",
   "execution_count": 8,
   "metadata": {},
   "outputs": [
    {
     "data": {
      "text/plain": [
       "array(['Czechoslovakia', 'German Democratic Republic',\n",
       "       'Serbia and Montenegro', 'Soviet Union', 'Yugoslavia'], dtype=object)"
      ]
     },
     "execution_count": 8,
     "metadata": {},
     "output_type": "execute_result"
    }
   ],
   "source": [
    "# see which countries are missing region\n",
    "cnty_wo_region=df.loc[pd.isna(df.region),'country'].unique()\n",
    "cnty_wo_region"
   ]
  },
  {
   "cell_type": "markdown",
   "metadata": {},
   "source": [
    "These countries no longer exist today. Let's filter them out."
   ]
  },
  {
   "cell_type": "code",
   "execution_count": 9,
   "metadata": {},
   "outputs": [
    {
     "data": {
      "text/plain": [
       "195"
      ]
     },
     "execution_count": 9,
     "metadata": {},
     "output_type": "execute_result"
    }
   ],
   "source": [
    "df=df[~df['country'].isin(cnty_wo_region)]\n",
    "\n",
    "#final countries remained\n",
    "df['country'].nunique()"
   ]
  },
  {
   "cell_type": "code",
   "execution_count": 10,
   "metadata": {},
   "outputs": [
    {
     "data": {
      "text/plain": [
       "(1960, 2018)"
      ]
     },
     "execution_count": 10,
     "metadata": {},
     "output_type": "execute_result"
    }
   ],
   "source": [
    "#years covered\n",
    "np.min(df.Year),np.max(df.Year)"
   ]
  },
  {
   "cell_type": "markdown",
   "metadata": {},
   "source": [
    "We have quite a comprehensive list of 195 countries spanning from 1960 to 2018, all having information on whether they allow dual citizenship, after removing the 5 countries missing region definition since they no longer exist. \n",
    "\n",
    "Some were missing ISO2 code or dependency code describing their subdivision, which are of no importance to this analysis."
   ]
  },
  {
   "cell_type": "markdown",
   "metadata": {},
   "source": [
    "## Latest state of the policy"
   ]
  },
  {
   "cell_type": "code",
   "execution_count": 11,
   "metadata": {},
   "outputs": [
    {
     "data": {
      "text/html": [
       "<div>\n",
       "<style scoped>\n",
       "    .dataframe tbody tr th:only-of-type {\n",
       "        vertical-align: middle;\n",
       "    }\n",
       "\n",
       "    .dataframe tbody tr th {\n",
       "        vertical-align: top;\n",
       "    }\n",
       "\n",
       "    .dataframe thead th {\n",
       "        text-align: right;\n",
       "    }\n",
       "</style>\n",
       "<table border=\"1\" class=\"dataframe\">\n",
       "  <thead>\n",
       "    <tr style=\"text-align: right;\">\n",
       "      <th>category</th>\n",
       "      <th>Dual citizenship</th>\n",
       "      <th>No dual citizenship</th>\n",
       "      <th>Not automatically renounced</th>\n",
       "      <th>All</th>\n",
       "    </tr>\n",
       "    <tr>\n",
       "      <th>region</th>\n",
       "      <th></th>\n",
       "      <th></th>\n",
       "      <th></th>\n",
       "      <th></th>\n",
       "    </tr>\n",
       "  </thead>\n",
       "  <tbody>\n",
       "    <tr>\n",
       "      <th>Africa</th>\n",
       "      <td>4</td>\n",
       "      <td>17</td>\n",
       "      <td>33</td>\n",
       "      <td>54</td>\n",
       "    </tr>\n",
       "    <tr>\n",
       "      <th>Asia</th>\n",
       "      <td>2</td>\n",
       "      <td>17</td>\n",
       "      <td>29</td>\n",
       "      <td>48</td>\n",
       "    </tr>\n",
       "    <tr>\n",
       "      <th>Europe</th>\n",
       "      <td>1</td>\n",
       "      <td>10</td>\n",
       "      <td>33</td>\n",
       "      <td>44</td>\n",
       "    </tr>\n",
       "    <tr>\n",
       "      <th>LTAM</th>\n",
       "      <td>11</td>\n",
       "      <td>3</td>\n",
       "      <td>19</td>\n",
       "      <td>33</td>\n",
       "    </tr>\n",
       "    <tr>\n",
       "      <th>North America</th>\n",
       "      <td>0</td>\n",
       "      <td>0</td>\n",
       "      <td>2</td>\n",
       "      <td>2</td>\n",
       "    </tr>\n",
       "    <tr>\n",
       "      <th>Oceania</th>\n",
       "      <td>1</td>\n",
       "      <td>2</td>\n",
       "      <td>11</td>\n",
       "      <td>14</td>\n",
       "    </tr>\n",
       "    <tr>\n",
       "      <th>All</th>\n",
       "      <td>19</td>\n",
       "      <td>49</td>\n",
       "      <td>127</td>\n",
       "      <td>195</td>\n",
       "    </tr>\n",
       "  </tbody>\n",
       "</table>\n",
       "</div>"
      ],
      "text/plain": [
       "category       Dual citizenship  No dual citizenship  \\\n",
       "region                                                 \n",
       "Africa                        4                   17   \n",
       "Asia                          2                   17   \n",
       "Europe                        1                   10   \n",
       "LTAM                         11                    3   \n",
       "North America                 0                    0   \n",
       "Oceania                       1                    2   \n",
       "All                          19                   49   \n",
       "\n",
       "category       Not automatically renounced  All  \n",
       "region                                           \n",
       "Africa                                  33   54  \n",
       "Asia                                    29   48  \n",
       "Europe                                  33   44  \n",
       "LTAM                                    19   33  \n",
       "North America                            2    2  \n",
       "Oceania                                 11   14  \n",
       "All                                    127  195  "
      ]
     },
     "execution_count": 11,
     "metadata": {},
     "output_type": "execute_result"
    }
   ],
   "source": [
    "### Percentage of countries allowing dual citizenship\n",
    "df[\"value\"]=1\n",
    "df2018=df[df['Year']==2018]\n",
    "df_smry=df2018.pivot_table(index='region',columns='category',values=\"value\",aggfunc='count', fill_value=0, margins=True)\n",
    "df_smry"
   ]
  },
  {
   "cell_type": "code",
   "execution_count": 12,
   "metadata": {},
   "outputs": [
    {
     "data": {
      "text/html": [
       "<div>\n",
       "<style scoped>\n",
       "    .dataframe tbody tr th:only-of-type {\n",
       "        vertical-align: middle;\n",
       "    }\n",
       "\n",
       "    .dataframe tbody tr th {\n",
       "        vertical-align: top;\n",
       "    }\n",
       "\n",
       "    .dataframe thead th {\n",
       "        text-align: right;\n",
       "    }\n",
       "</style>\n",
       "<table border=\"1\" class=\"dataframe\">\n",
       "  <thead>\n",
       "    <tr style=\"text-align: right;\">\n",
       "      <th>category</th>\n",
       "      <th>Dual citizenship</th>\n",
       "    </tr>\n",
       "    <tr>\n",
       "      <th>region</th>\n",
       "      <th></th>\n",
       "    </tr>\n",
       "  </thead>\n",
       "  <tbody>\n",
       "    <tr>\n",
       "      <th>North America</th>\n",
       "      <td>0.000000</td>\n",
       "    </tr>\n",
       "    <tr>\n",
       "      <th>Europe</th>\n",
       "      <td>0.022727</td>\n",
       "    </tr>\n",
       "    <tr>\n",
       "      <th>Asia</th>\n",
       "      <td>0.041667</td>\n",
       "    </tr>\n",
       "    <tr>\n",
       "      <th>Oceania</th>\n",
       "      <td>0.071429</td>\n",
       "    </tr>\n",
       "    <tr>\n",
       "      <th>Africa</th>\n",
       "      <td>0.074074</td>\n",
       "    </tr>\n",
       "    <tr>\n",
       "      <th>LTAM</th>\n",
       "      <td>0.333333</td>\n",
       "    </tr>\n",
       "  </tbody>\n",
       "</table>\n",
       "</div>"
      ],
      "text/plain": [
       "category       Dual citizenship\n",
       "region                         \n",
       "North America          0.000000\n",
       "Europe                 0.022727\n",
       "Asia                   0.041667\n",
       "Oceania                0.071429\n",
       "Africa                 0.074074\n",
       "LTAM                   0.333333"
      ]
     },
     "execution_count": 12,
     "metadata": {},
     "output_type": "execute_result"
    }
   ],
   "source": [
    "df_smry_pct = pd.DataFrame(df_smry.div(df_smry[\"All\"], axis='index'). \\\n",
    "    iloc[0:6:,0:1].sort_values(by='Dual citizenship'))\n",
    "df_smry_pct\n",
    "#sns.barplot(x='region',y=\"Dual citizenship\", data=df_smry_pct)"
   ]
  },
  {
   "cell_type": "markdown",
   "metadata": {},
   "source": [
    "Unsuspectingly, Asia has the lowest percentage of countries allowing dual citizenship, even lower than Africa. The 2 countries in North America both allow it and more than 80% of countries in Latin America/Oceania allow it too."
   ]
  },
  {
   "cell_type": "code",
   "execution_count": 13,
   "metadata": {},
   "outputs": [],
   "source": [
    "import geopandas as gpd\n",
    "world = gpd.read_file(gpd.datasets.get_path('naturalearth_lowres'))\n",
    "\n",
    "#select only the relevant columns\n",
    "cols = ['country', 'ISO3', 'longitude','latitude','category','Year']\n",
    "df_s=df2018[cols]\n",
    "df_s.head()\n",
    "\n",
    "#join world to data\n",
    "merged18=world.merge(df_s, left_on='iso_a3',right_on='ISO3',how='inner')"
   ]
  },
  {
   "cell_type": "markdown",
   "metadata": {},
   "source": [
    "## The history of the policy"
   ]
  },
  {
   "cell_type": "markdown",
   "metadata": {},
   "source": [
    "### Percentage of countries by category globally"
   ]
  },
  {
   "cell_type": "code",
   "execution_count": 14,
   "metadata": {},
   "outputs": [
    {
     "data": {
      "text/plain": [
       "<matplotlib.text.Text at 0x11a4bc240>"
      ]
     },
     "execution_count": 14,
     "metadata": {},
     "output_type": "execute_result"
    },
    {
     "data": {
      "image/png": "[encoded data removed]",
      "text/plain": [
       "<matplotlib.figure.Figure at 0x11a4342b0>"
      ]
     },
     "metadata": {},
     "output_type": "display_data"
    }
   ],
   "source": [
    "df_smry = df.pivot_table(index=['Year'],columns='category', \\\n",
    "               values=\"value\",aggfunc='count', fill_value=0, margins=1)\n",
    "df_smry_pct = df_smry.div(df_smry[\"All\"], axis='index')\n",
    "df_smry_pct.iloc[:-1,:-1].plot()\n",
    "plt.legend(loc='lower left')\n",
    "plt.title('% dual citizenship countries by year')"
   ]
  },
  {
   "cell_type": "markdown",
   "metadata": {},
   "source": [
    "### Percentage of countries strickly forbid dual citizenship by region"
   ]
  },
  {
   "cell_type": "code",
   "execution_count": 15,
   "metadata": {},
   "outputs": [
    {
     "data": {
      "text/plain": [
       "<seaborn.axisgrid.FacetGrid at 0x11a556048>"
      ]
     },
     "execution_count": 15,
     "metadata": {},
     "output_type": "execute_result"
    },
    {
     "data": {
      "image/png": "[encoded data removed]",
      "text/plain": [
       "<matplotlib.figure.Figure at 0x11a556128>"
      ]
     },
     "metadata": {},
     "output_type": "display_data"
    }
   ],
   "source": [
    "df_smry_yr = df.pivot_table(index=['Year','region'],columns='category', \\\n",
    "               values=\"value\",aggfunc='count', fill_value=0, margins=1)\n",
    "df_smry_yr_pct = df_smry_yr.div(df_smry_yr[\"All\"], axis='index')\n",
    "#Countries with strickly no dual citizenship by region\n",
    "df_region = df_smry_yr_pct.reset_index().iloc[:-1,[0,1,3]]\n",
    "#small multiples\n",
    "sns.relplot(x='Year', y= 'No dual citizenship', hue=\"region\", col=\"region\", \\\n",
    "            kind=\"line\", col_wrap=3,data=df_region, legend='brief')"
   ]
  },
  {
   "cell_type": "markdown",
   "metadata": {},
   "source": [
    "### Number of countries by category in each region"
   ]
  },
  {
   "cell_type": "code",
   "execution_count": 16,
   "metadata": {},
   "outputs": [],
   "source": [
    "regional_agg = df.loc[:,['region','Year','category']].groupby(['region','Year','category']).size(). \\\n",
    "to_frame('count').reset_index()"
   ]
  },
  {
   "cell_type": "code",
   "execution_count": 17,
   "metadata": {},
   "outputs": [
    {
     "data": {
      "image/png": "[encoded data removed]",
      "text/plain": [
       "<matplotlib.figure.Figure at 0x11ad4ffd0>"
      ]
     },
     "metadata": {},
     "output_type": "display_data"
    }
   ],
   "source": [
    "g=sns.relplot(x='Year', y= 'count', hue=\"category\", col=\"region\", kind=\"line\", col_wrap=3,\\\n",
    "            data=regional_agg, legend='brief')\n",
    "#g.fig.suptitle(\"My Title\")\n",
    "leg = g._legend\n",
    "leg.set_bbox_to_anchor([0.8,1])"
   ]
  },
  {
   "cell_type": "markdown",
   "metadata": {},
   "source": [
    "Percentage of countries forbiding dual citizenship are on the decline across all regions, though much more gradual in Asia."
   ]
  },
  {
   "cell_type": "code",
   "execution_count": 18,
   "metadata": {},
   "outputs": [],
   "source": [
    "from matplotlib.colors import ListedColormap\n",
    "cmap = ListedColormap([\"#30a2da\", \\\n",
    "    \"#fc4f30\", \\\n",
    "    \"#e5ae38\"], name='prime')"
   ]
  },
  {
   "cell_type": "code",
   "execution_count": 19,
   "metadata": {},
   "outputs": [
    {
     "data": {
      "text/plain": [
       "'0.4.0'"
      ]
     },
     "execution_count": 19,
     "metadata": {},
     "output_type": "execute_result"
    }
   ],
   "source": [
    "gpd.__version__"
   ]
  },
  {
   "cell_type": "code",
   "execution_count": 37,
   "metadata": {},
   "outputs": [
    {
     "data": {
      "text/plain": [
       "<matplotlib.text.Text at 0x11ec1e7b8>"
      ]
     },
     "execution_count": 37,
     "metadata": {},
     "output_type": "execute_result"
    },
    {
     "data": {
      "image/png": "[encoded data removed]",
      "text/plain": [
       "<matplotlib.figure.Figure at 0x11d585860>"
      ]
     },
     "metadata": {},
     "output_type": "display_data"
    }
   ],
   "source": [
    "#plot on map\n",
    "#1960\n",
    "fig, [ax1, ax2] = plt.subplots(nrows=1, ncols=2,figsize=(16, 4))\n",
    "#fig, ax = plt.subplots(1, figsize=(8, 6))\n",
    "ax1.axis('off')\n",
    "merged=world.merge(df[df['Year']==1960][cols], left_on='iso_a3',right_on='ISO3',how='inner')\n",
    "merged.head()\n",
    "lgnd_kwds = {'loc': 'upper left', 'ncol': 3}\n",
    "\n",
    "merged.plot(column='category',legend=True,ax=ax1,cmap=cmap, legend_kwds = lgnd_kwds)\n",
    "ax1.set_title('1960')\n",
    "\n",
    "\n",
    "#2018\n",
    "ax2.axis('off')\n",
    "#join world to data\n",
    "merged18.plot(column='category',legend=True,ax=ax2,cmap=cmap, legend_kwds = lgnd_kwds)\n",
    "ax2.set_title('2018')"
   ]
  },
  {
   "cell_type": "markdown",
   "metadata": {},
   "source": [
    "## Interactive version"
   ]
  },
  {
   "cell_type": "code",
   "execution_count": 38,
   "metadata": {},
   "outputs": [
    {
     "data": {
      "application/vnd.jupyter.widget-view+json": {
       "model_id": "cd5fc52c765c4ee8bcf5d7f541cd5921",
       "version_major": 2,
       "version_minor": 0
      },
      "text/plain": [
       "interactive(children=(IntSlider(value=1989, description='year', max=2018, min=1960), Output()), _dom_classes=(…"
      ]
     },
     "metadata": {},
     "output_type": "display_data"
    },
    {
     "data": {
      "text/plain": [
       "<matplotlib.figure.Figure at 0x11c135cf8>"
      ]
     },
     "metadata": {},
     "output_type": "display_data"
    }
   ],
   "source": [
    "plt.figure(figsize=(20,10)) \n",
    "def plotmap(year):\n",
    "    plt.figure(figsize=(20,10)) \n",
    "    df_select=df[df['Year']==year]\n",
    "    merged=world.merge(df_select[cols], left_on='iso_a3',right_on='ISO3',how='inner')\n",
    "    merged.plot(column='category',legend=True, cmap=cmap, legend_kwds = lgnd_kwds)\n",
    "\n",
    "    plt.show()\n",
    "    \n",
    "interactive_plot = interactive(plotmap, year=(1960, 2018))\n",
    "output = interactive_plot.children[-1]\n",
    "interactive_plot"
   ]
  },
  {
   "cell_type": "markdown",
   "metadata": {},
   "source": [
    "We can see South America had a long history of allowing dual citizenships. Till today, most of Asian Pacific countries forbid it."
   ]
  },
  {
   "cell_type": "markdown",
   "metadata": {},
   "source": [
    "The data doesn't contain info about which country pairs co-occur in dual citizenship schemes, using which we would be able to glimpse into bilateral ties, diaspora and historical liasions. \n",
    "\n",
    "Neverthess we can make some observation on what potentially differs countries granting vs not granting bilateral ties, using social-economic data."
   ]
  },
  {
   "cell_type": "markdown",
   "metadata": {},
   "source": [
    "Next we mash the original dataset with another dataset from World Government Summit containing various demographic, socialeconomic and governance indicators"
   ]
  },
  {
   "cell_type": "code",
   "execution_count": 22,
   "metadata": {},
   "outputs": [
    {
     "name": "stdout",
     "output_type": "stream",
     "text": [
      "(195, 34)\n"
     ]
    },
    {
     "data": {
      "text/html": [
       "<div>\n",
       "<style scoped>\n",
       "    .dataframe tbody tr th:only-of-type {\n",
       "        vertical-align: middle;\n",
       "    }\n",
       "\n",
       "    .dataframe tbody tr th {\n",
       "        vertical-align: top;\n",
       "    }\n",
       "\n",
       "    .dataframe thead th {\n",
       "        text-align: right;\n",
       "    }\n",
       "</style>\n",
       "<table border=\"1\" class=\"dataframe\">\n",
       "  <thead>\n",
       "    <tr style=\"text-align: right;\">\n",
       "      <th></th>\n",
       "      <th>indicator</th>\n",
       "      <th>ISO Country code</th>\n",
       "      <th>population</th>\n",
       "      <th>surface area (Km2)</th>\n",
       "      <th>GINI index</th>\n",
       "      <th>happy planet index</th>\n",
       "      <th>human development index</th>\n",
       "      <th>world happiness report score</th>\n",
       "      <th>sustainable economic development assessment (SEDA)</th>\n",
       "      <th>GDP \n",
       "(billions PPP)</th>\n",
       "      <th>...</th>\n",
       "      <th>regulatory quality</th>\n",
       "      <th>rule of law</th>\n",
       "      <th>control of corruption</th>\n",
       "      <th>judicial effectiveness score</th>\n",
       "      <th>government integrity score</th>\n",
       "      <th>property rights score</th>\n",
       "      <th>tax burden score</th>\n",
       "      <th>overall economic freedom score</th>\n",
       "      <th>financial freedom score</th>\n",
       "      <th>women MPs (% of all MPs)</th>\n",
       "    </tr>\n",
       "  </thead>\n",
       "  <tbody>\n",
       "    <tr>\n",
       "      <th>0</th>\n",
       "      <td>Afghanistan</td>\n",
       "      <td>AFG</td>\n",
       "      <td>36,000,000</td>\n",
       "      <td>652,230</td>\n",
       "      <td>-</td>\n",
       "      <td>20.2</td>\n",
       "      <td>0.498</td>\n",
       "      <td>2.66</td>\n",
       "      <td>-</td>\n",
       "      <td>64.1</td>\n",
       "      <td>...</td>\n",
       "      <td>-1.3</td>\n",
       "      <td>-1.57</td>\n",
       "      <td>-1.52</td>\n",
       "      <td>28.2</td>\n",
       "      <td>26.2</td>\n",
       "      <td>17.9</td>\n",
       "      <td>91.8</td>\n",
       "      <td>51.3</td>\n",
       "      <td>10</td>\n",
       "      <td>27.7</td>\n",
       "    </tr>\n",
       "    <tr>\n",
       "      <th>1</th>\n",
       "      <td>Albania</td>\n",
       "      <td>ALB</td>\n",
       "      <td>2,900,000</td>\n",
       "      <td>27,398</td>\n",
       "      <td>29</td>\n",
       "      <td>36.8</td>\n",
       "      <td>0.785</td>\n",
       "      <td>4.64</td>\n",
       "      <td>53.1</td>\n",
       "      <td>34.2</td>\n",
       "      <td>...</td>\n",
       "      <td>0.2</td>\n",
       "      <td>-0.4</td>\n",
       "      <td>-0.42</td>\n",
       "      <td>25.4</td>\n",
       "      <td>39.9</td>\n",
       "      <td>54.1</td>\n",
       "      <td>85.1</td>\n",
       "      <td>64.5</td>\n",
       "      <td>70</td>\n",
       "      <td>27.9</td>\n",
       "    </tr>\n",
       "    <tr>\n",
       "      <th>2</th>\n",
       "      <td>Algeria</td>\n",
       "      <td>DZA</td>\n",
       "      <td>41,000,000</td>\n",
       "      <td>2,381,740</td>\n",
       "      <td>35.3</td>\n",
       "      <td>33.3</td>\n",
       "      <td>0.754</td>\n",
       "      <td>5.25</td>\n",
       "      <td>45.8</td>\n",
       "      <td>612.5</td>\n",
       "      <td>...</td>\n",
       "      <td>-1.2</td>\n",
       "      <td>-0.86</td>\n",
       "      <td>-0.61</td>\n",
       "      <td>35.2</td>\n",
       "      <td>29</td>\n",
       "      <td>27.8</td>\n",
       "      <td>74</td>\n",
       "      <td>44.7</td>\n",
       "      <td>30</td>\n",
       "      <td>25.8</td>\n",
       "    </tr>\n",
       "    <tr>\n",
       "      <th>3</th>\n",
       "      <td>Andorra</td>\n",
       "      <td>AND</td>\n",
       "      <td>77,000</td>\n",
       "      <td>468</td>\n",
       "      <td>-</td>\n",
       "      <td>-</td>\n",
       "      <td>0.858</td>\n",
       "      <td>-</td>\n",
       "      <td>-</td>\n",
       "      <td>-</td>\n",
       "      <td>...</td>\n",
       "      <td>1.2</td>\n",
       "      <td>1.6</td>\n",
       "      <td>1.24</td>\n",
       "      <td>-</td>\n",
       "      <td>-</td>\n",
       "      <td>-</td>\n",
       "      <td>-</td>\n",
       "      <td>-</td>\n",
       "      <td>-</td>\n",
       "      <td>32.1</td>\n",
       "    </tr>\n",
       "    <tr>\n",
       "      <th>4</th>\n",
       "      <td>Angola</td>\n",
       "      <td>AGO</td>\n",
       "      <td>30,000,000</td>\n",
       "      <td>1,246,700</td>\n",
       "      <td>42.7</td>\n",
       "      <td>-</td>\n",
       "      <td>0.581</td>\n",
       "      <td>-</td>\n",
       "      <td>28.4</td>\n",
       "      <td>187.3</td>\n",
       "      <td>...</td>\n",
       "      <td>-1</td>\n",
       "      <td>-1.1</td>\n",
       "      <td>-1.41</td>\n",
       "      <td>25.4</td>\n",
       "      <td>18.9</td>\n",
       "      <td>36</td>\n",
       "      <td>82.4</td>\n",
       "      <td>48.6</td>\n",
       "      <td>40</td>\n",
       "      <td>38.2</td>\n",
       "    </tr>\n",
       "  </tbody>\n",
       "</table>\n",
       "<p>5 rows × 34 columns</p>\n",
       "</div>"
      ],
      "text/plain": [
       "     indicator ISO Country code  population surface area (Km2) GINI index  \\\n",
       "0  Afghanistan              AFG  36,000,000            652,230          -   \n",
       "1      Albania              ALB   2,900,000             27,398         29   \n",
       "2      Algeria              DZA  41,000,000          2,381,740       35.3   \n",
       "3      Andorra              AND      77,000                468          -   \n",
       "4       Angola              AGO  30,000,000          1,246,700       42.7   \n",
       "\n",
       "  happy planet index human development index world happiness report score  \\\n",
       "0               20.2                   0.498                         2.66   \n",
       "1               36.8                   0.785                         4.64   \n",
       "2               33.3                   0.754                         5.25   \n",
       "3                  -                   0.858                            -   \n",
       "4                  -                   0.581                            -   \n",
       "\n",
       "  sustainable economic development assessment (SEDA) GDP \\n(billions PPP)  \\\n",
       "0                                                  -                 64.1   \n",
       "1                                               53.1                 34.2   \n",
       "2                                               45.8                612.5   \n",
       "3                                                  -                    -   \n",
       "4                                               28.4                187.3   \n",
       "\n",
       "            ...            regulatory quality rule of law  \\\n",
       "0           ...                          -1.3       -1.57   \n",
       "1           ...                           0.2        -0.4   \n",
       "2           ...                          -1.2       -0.86   \n",
       "3           ...                           1.2         1.6   \n",
       "4           ...                            -1        -1.1   \n",
       "\n",
       "  control of corruption judicial effectiveness score  \\\n",
       "0                 -1.52                         28.2   \n",
       "1                 -0.42                         25.4   \n",
       "2                 -0.61                         35.2   \n",
       "3                  1.24                            -   \n",
       "4                 -1.41                         25.4   \n",
       "\n",
       "  government integrity score property rights score tax burden score  \\\n",
       "0                       26.2                  17.9             91.8   \n",
       "1                       39.9                  54.1             85.1   \n",
       "2                         29                  27.8               74   \n",
       "3                          -                     -                -   \n",
       "4                       18.9                    36             82.4   \n",
       "\n",
       "  overall economic freedom score financial freedom score  \\\n",
       "0                           51.3                      10   \n",
       "1                           64.5                      70   \n",
       "2                           44.7                      30   \n",
       "3                              -                       -   \n",
       "4                           48.6                      40   \n",
       "\n",
       "  women MPs (% of all MPs)  \n",
       "0                     27.7  \n",
       "1                     27.9  \n",
       "2                     25.8  \n",
       "3                     32.1  \n",
       "4                     38.2  \n",
       "\n",
       "[5 rows x 34 columns]"
      ]
     },
     "execution_count": 22,
     "metadata": {},
     "output_type": "execute_result"
    }
   ],
   "source": [
    "indicators = pd.read_csv(\"multiple_citizenship_data/gov_metrics.csv\")\n",
    "print(indicators.shape)\n",
    "indicators.head()"
   ]
  },
  {
   "cell_type": "code",
   "execution_count": 23,
   "metadata": {},
   "outputs": [
    {
     "data": {
      "text/html": [
       "<div>\n",
       "<style scoped>\n",
       "    .dataframe tbody tr th:only-of-type {\n",
       "        vertical-align: middle;\n",
       "    }\n",
       "\n",
       "    .dataframe tbody tr th {\n",
       "        vertical-align: top;\n",
       "    }\n",
       "\n",
       "    .dataframe thead th {\n",
       "        text-align: right;\n",
       "    }\n",
       "</style>\n",
       "<table border=\"1\" class=\"dataframe\">\n",
       "  <thead>\n",
       "    <tr style=\"text-align: right;\">\n",
       "      <th></th>\n",
       "      <th>caseid</th>\n",
       "      <th>ISO3</th>\n",
       "      <th>ISO2</th>\n",
       "      <th>country</th>\n",
       "      <th>country_code</th>\n",
       "      <th>dependency_code</th>\n",
       "      <th>world_region</th>\n",
       "      <th>longitude</th>\n",
       "      <th>latitude</th>\n",
       "      <th>Year</th>\n",
       "      <th>...</th>\n",
       "      <th>regulatory quality</th>\n",
       "      <th>rule of law</th>\n",
       "      <th>control of corruption</th>\n",
       "      <th>judicial effectiveness score</th>\n",
       "      <th>government integrity score</th>\n",
       "      <th>property rights score</th>\n",
       "      <th>tax burden score</th>\n",
       "      <th>overall economic freedom score</th>\n",
       "      <th>financial freedom score</th>\n",
       "      <th>women MPs (% of all MPs)</th>\n",
       "    </tr>\n",
       "  </thead>\n",
       "  <tbody>\n",
       "    <tr>\n",
       "      <th>0</th>\n",
       "      <td>11455</td>\n",
       "      <td>AFG</td>\n",
       "      <td>AF</td>\n",
       "      <td>Afghanistan</td>\n",
       "      <td>4</td>\n",
       "      <td>NaN</td>\n",
       "      <td>2.0</td>\n",
       "      <td>691761.0</td>\n",
       "      <td>345228.0</td>\n",
       "      <td>2018</td>\n",
       "      <td>...</td>\n",
       "      <td>-1.3</td>\n",
       "      <td>-1.57</td>\n",
       "      <td>-1.52</td>\n",
       "      <td>28.2</td>\n",
       "      <td>26.2</td>\n",
       "      <td>17.9</td>\n",
       "      <td>91.8</td>\n",
       "      <td>51.3</td>\n",
       "      <td>10</td>\n",
       "      <td>27.7</td>\n",
       "    </tr>\n",
       "    <tr>\n",
       "      <th>1</th>\n",
       "      <td>11503</td>\n",
       "      <td>ALB</td>\n",
       "      <td>AL</td>\n",
       "      <td>Albania</td>\n",
       "      <td>8</td>\n",
       "      <td>NaN</td>\n",
       "      <td>3.0</td>\n",
       "      <td>198172.0</td>\n",
       "      <td>413317.0</td>\n",
       "      <td>2018</td>\n",
       "      <td>...</td>\n",
       "      <td>0.2</td>\n",
       "      <td>-0.4</td>\n",
       "      <td>-0.42</td>\n",
       "      <td>25.4</td>\n",
       "      <td>39.9</td>\n",
       "      <td>54.1</td>\n",
       "      <td>85.1</td>\n",
       "      <td>64.5</td>\n",
       "      <td>70</td>\n",
       "      <td>27.9</td>\n",
       "    </tr>\n",
       "    <tr>\n",
       "      <th>2</th>\n",
       "      <td>11401</td>\n",
       "      <td>DZA</td>\n",
       "      <td>DZ</td>\n",
       "      <td>Algeria</td>\n",
       "      <td>12</td>\n",
       "      <td>250.0</td>\n",
       "      <td>1.0</td>\n",
       "      <td>305097.0</td>\n",
       "      <td>367397.0</td>\n",
       "      <td>2018</td>\n",
       "      <td>...</td>\n",
       "      <td>-1.2</td>\n",
       "      <td>-0.86</td>\n",
       "      <td>-0.61</td>\n",
       "      <td>35.2</td>\n",
       "      <td>29</td>\n",
       "      <td>27.8</td>\n",
       "      <td>74</td>\n",
       "      <td>44.7</td>\n",
       "      <td>30</td>\n",
       "      <td>25.8</td>\n",
       "    </tr>\n",
       "    <tr>\n",
       "      <th>3</th>\n",
       "      <td>11504</td>\n",
       "      <td>AND</td>\n",
       "      <td>AD</td>\n",
       "      <td>Andorra</td>\n",
       "      <td>20</td>\n",
       "      <td>NaN</td>\n",
       "      <td>3.0</td>\n",
       "      <td>15218.0</td>\n",
       "      <td>425075.0</td>\n",
       "      <td>2018</td>\n",
       "      <td>...</td>\n",
       "      <td>1.2</td>\n",
       "      <td>1.6</td>\n",
       "      <td>1.24</td>\n",
       "      <td>-</td>\n",
       "      <td>-</td>\n",
       "      <td>-</td>\n",
       "      <td>-</td>\n",
       "      <td>-</td>\n",
       "      <td>-</td>\n",
       "      <td>32.1</td>\n",
       "    </tr>\n",
       "    <tr>\n",
       "      <th>4</th>\n",
       "      <td>11402</td>\n",
       "      <td>AGO</td>\n",
       "      <td>AO</td>\n",
       "      <td>Angola</td>\n",
       "      <td>24</td>\n",
       "      <td>620.0</td>\n",
       "      <td>1.0</td>\n",
       "      <td>13242.0</td>\n",
       "      <td>-881155.0</td>\n",
       "      <td>2018</td>\n",
       "      <td>...</td>\n",
       "      <td>-1</td>\n",
       "      <td>-1.1</td>\n",
       "      <td>-1.41</td>\n",
       "      <td>25.4</td>\n",
       "      <td>18.9</td>\n",
       "      <td>36</td>\n",
       "      <td>82.4</td>\n",
       "      <td>48.6</td>\n",
       "      <td>40</td>\n",
       "      <td>38.2</td>\n",
       "    </tr>\n",
       "  </tbody>\n",
       "</table>\n",
       "<p>5 rows × 50 columns</p>\n",
       "</div>"
      ],
      "text/plain": [
       "   caseid ISO3 ISO2      country  country_code  dependency_code  world_region  \\\n",
       "0   11455  AFG   AF  Afghanistan             4              NaN           2.0   \n",
       "1   11503  ALB   AL      Albania             8              NaN           3.0   \n",
       "2   11401  DZA   DZ      Algeria            12            250.0           1.0   \n",
       "3   11504  AND   AD      Andorra            20              NaN           3.0   \n",
       "4   11402  AGO   AO       Angola            24            620.0           1.0   \n",
       "\n",
       "   longitude  latitude  Year           ...             regulatory quality  \\\n",
       "0   691761.0  345228.0  2018           ...                           -1.3   \n",
       "1   198172.0  413317.0  2018           ...                            0.2   \n",
       "2   305097.0  367397.0  2018           ...                           -1.2   \n",
       "3    15218.0  425075.0  2018           ...                            1.2   \n",
       "4    13242.0 -881155.0  2018           ...                             -1   \n",
       "\n",
       "   rule of law  control of corruption judicial effectiveness score  \\\n",
       "0        -1.57                  -1.52                         28.2   \n",
       "1         -0.4                  -0.42                         25.4   \n",
       "2        -0.86                  -0.61                         35.2   \n",
       "3          1.6                   1.24                            -   \n",
       "4         -1.1                  -1.41                         25.4   \n",
       "\n",
       "  government integrity score  property rights score tax burden score  \\\n",
       "0                       26.2                   17.9             91.8   \n",
       "1                       39.9                   54.1             85.1   \n",
       "2                         29                   27.8               74   \n",
       "3                          -                      -                -   \n",
       "4                       18.9                     36             82.4   \n",
       "\n",
       "  overall economic freedom score financial freedom score  \\\n",
       "0                           51.3                      10   \n",
       "1                           64.5                      70   \n",
       "2                           44.7                      30   \n",
       "3                              -                       -   \n",
       "4                           48.6                      40   \n",
       "\n",
       "  women MPs (% of all MPs)  \n",
       "0                     27.7  \n",
       "1                     27.9  \n",
       "2                     25.8  \n",
       "3                     32.1  \n",
       "4                     38.2  \n",
       "\n",
       "[5 rows x 50 columns]"
      ]
     },
     "execution_count": 23,
     "metadata": {},
     "output_type": "execute_result"
    }
   ],
   "source": [
    "#join with dual citizenship data\n",
    "merged_indicator=df2018.merge(indicators, left_on='ISO3',right_on='ISO Country code',how='inner')\n",
    "merged_indicator.head()"
   ]
  },
  {
   "cell_type": "code",
   "execution_count": 40,
   "metadata": {},
   "outputs": [
    {
     "data": {
      "text/plain": [
       "category\n",
       "Dual citizenship                18\n",
       "No dual citizenship             49\n",
       "Not automatically renounced    127\n",
       "Name: country, dtype: int64"
      ]
     },
     "execution_count": 40,
     "metadata": {},
     "output_type": "execute_result"
    }
   ],
   "source": [
    "merged_indicator.groupby('category')['country'].nunique()"
   ]
  },
  {
   "cell_type": "code",
   "execution_count": 24,
   "metadata": {},
   "outputs": [
    {
     "data": {
      "text/plain": [
       "Index(['caseid', 'ISO3', 'ISO2', 'country', 'country_code', 'dependency_code',\n",
       "       'world_region', 'longitude', 'latitude', 'Year', 'Dualcit_cat',\n",
       "       'Dualcit_grouped', 'Dualcit_binary', 'region', 'category', 'value',\n",
       "       'indicator', 'ISO Country code', 'population', 'surface area (Km2)',\n",
       "       'GINI index', 'happy planet index', 'human development index',\n",
       "       'world happiness report score',\n",
       "       'sustainable economic development assessment (SEDA)',\n",
       "       'GDP \\n(billions PPP)', 'GDP per capita (PPP)',\n",
       "       'GDP growth\\n(annual %)', 'health expenditure \\n% of GDP',\n",
       "       'health expenditure \\nper person', 'education expenditure\\n% of GDP',\n",
       "       'education expenditure \\nper person ', 'school life expectancy (YEARS)',\n",
       "       'unemployment (%)', 'government spending score',\n",
       "       'government expenditure (% of GDP)', 'political rights score ',\n",
       "       'civil liberties score ', 'political stability & absence of violence',\n",
       "       'government effectiveness', 'regulatory quality', 'rule of law',\n",
       "       'control of corruption', 'judicial effectiveness score',\n",
       "       'government integrity score', 'property rights score',\n",
       "       'tax burden score', 'overall economic freedom score',\n",
       "       'financial freedom score', 'women MPs (% of all MPs)'],\n",
       "      dtype='object')"
      ]
     },
     "execution_count": 24,
     "metadata": {},
     "output_type": "execute_result"
    }
   ],
   "source": [
    "#remove column with more than half of the indicators missing\n",
    "merged_indicator=merged_indicator.loc[:,merged_indicator.isnull().mean()<0.5]\n",
    "merged_indicator.columns"
   ]
  },
  {
   "cell_type": "code",
   "execution_count": 50,
   "metadata": {},
   "outputs": [
    {
     "data": {
      "text/html": [
       "<div>\n",
       "<style scoped>\n",
       "    .dataframe tbody tr th:only-of-type {\n",
       "        vertical-align: middle;\n",
       "    }\n",
       "\n",
       "    .dataframe tbody tr th {\n",
       "        vertical-align: top;\n",
       "    }\n",
       "\n",
       "    .dataframe thead th {\n",
       "        text-align: right;\n",
       "    }\n",
       "</style>\n",
       "<table border=\"1\" class=\"dataframe\">\n",
       "  <thead>\n",
       "    <tr style=\"text-align: right;\">\n",
       "      <th></th>\n",
       "      <th>category</th>\n",
       "      <th>GINI_index</th>\n",
       "      <th>happy_planet_index</th>\n",
       "      <th>human_development_index</th>\n",
       "      <th>world_happiness_report_score</th>\n",
       "      <th>sustainable_economic_development_assessment_(SEDA)</th>\n",
       "      <th>GDP_\n",
       "(billions_PPP)</th>\n",
       "      <th>GDP_per_capita_(PPP)</th>\n",
       "      <th>GDP_growth\n",
       "(annual_%)</th>\n",
       "      <th>health_expenditure_\n",
       "%_of_GDP</th>\n",
       "      <th>...</th>\n",
       "      <th>regulatory_quality</th>\n",
       "      <th>rule_of_law</th>\n",
       "      <th>control_of_corruption</th>\n",
       "      <th>judicial_effectiveness_score</th>\n",
       "      <th>government_integrity_score</th>\n",
       "      <th>property_rights_score</th>\n",
       "      <th>tax_burden_score</th>\n",
       "      <th>overall_economic_freedom_score</th>\n",
       "      <th>financial_freedom_score</th>\n",
       "      <th>women_MPs_(%_of_all_MPs)</th>\n",
       "    </tr>\n",
       "  </thead>\n",
       "  <tbody>\n",
       "    <tr>\n",
       "      <th>0</th>\n",
       "      <td>Not automatically renounced</td>\n",
       "      <td>NaN</td>\n",
       "      <td>20.2</td>\n",
       "      <td>0.498</td>\n",
       "      <td>2.66</td>\n",
       "      <td>NaN</td>\n",
       "      <td>64.1</td>\n",
       "      <td>NaN</td>\n",
       "      <td>1.5</td>\n",
       "      <td>10.3</td>\n",
       "      <td>...</td>\n",
       "      <td>-1.3</td>\n",
       "      <td>-1.57</td>\n",
       "      <td>-1.52</td>\n",
       "      <td>28.2</td>\n",
       "      <td>26.2</td>\n",
       "      <td>17.9</td>\n",
       "      <td>91.8</td>\n",
       "      <td>51.3</td>\n",
       "      <td>10.0</td>\n",
       "      <td>27.7</td>\n",
       "    </tr>\n",
       "    <tr>\n",
       "      <th>1</th>\n",
       "      <td>Not automatically renounced</td>\n",
       "      <td>29.0</td>\n",
       "      <td>36.8</td>\n",
       "      <td>0.785</td>\n",
       "      <td>4.64</td>\n",
       "      <td>53.1</td>\n",
       "      <td>34.2</td>\n",
       "      <td>NaN</td>\n",
       "      <td>2.6</td>\n",
       "      <td>6.8</td>\n",
       "      <td>...</td>\n",
       "      <td>0.2</td>\n",
       "      <td>-0.40</td>\n",
       "      <td>-0.42</td>\n",
       "      <td>25.4</td>\n",
       "      <td>39.9</td>\n",
       "      <td>54.1</td>\n",
       "      <td>85.1</td>\n",
       "      <td>64.5</td>\n",
       "      <td>70.0</td>\n",
       "      <td>27.9</td>\n",
       "    </tr>\n",
       "    <tr>\n",
       "      <th>2</th>\n",
       "      <td>Not automatically renounced</td>\n",
       "      <td>35.3</td>\n",
       "      <td>33.3</td>\n",
       "      <td>0.754</td>\n",
       "      <td>5.25</td>\n",
       "      <td>45.8</td>\n",
       "      <td>612.5</td>\n",
       "      <td>NaN</td>\n",
       "      <td>3.7</td>\n",
       "      <td>7.1</td>\n",
       "      <td>...</td>\n",
       "      <td>-1.2</td>\n",
       "      <td>-0.86</td>\n",
       "      <td>-0.61</td>\n",
       "      <td>35.2</td>\n",
       "      <td>29.0</td>\n",
       "      <td>27.8</td>\n",
       "      <td>74.0</td>\n",
       "      <td>44.7</td>\n",
       "      <td>30.0</td>\n",
       "      <td>25.8</td>\n",
       "    </tr>\n",
       "    <tr>\n",
       "      <th>3</th>\n",
       "      <td>No dual citizenship</td>\n",
       "      <td>NaN</td>\n",
       "      <td>NaN</td>\n",
       "      <td>0.858</td>\n",
       "      <td>NaN</td>\n",
       "      <td>NaN</td>\n",
       "      <td>NaN</td>\n",
       "      <td>NaN</td>\n",
       "      <td>NaN</td>\n",
       "      <td>12.0</td>\n",
       "      <td>...</td>\n",
       "      <td>1.2</td>\n",
       "      <td>1.60</td>\n",
       "      <td>1.24</td>\n",
       "      <td>NaN</td>\n",
       "      <td>NaN</td>\n",
       "      <td>NaN</td>\n",
       "      <td>NaN</td>\n",
       "      <td>NaN</td>\n",
       "      <td>NaN</td>\n",
       "      <td>32.1</td>\n",
       "    </tr>\n",
       "    <tr>\n",
       "      <th>4</th>\n",
       "      <td>Not automatically renounced</td>\n",
       "      <td>42.7</td>\n",
       "      <td>NaN</td>\n",
       "      <td>0.581</td>\n",
       "      <td>NaN</td>\n",
       "      <td>28.4</td>\n",
       "      <td>187.3</td>\n",
       "      <td>NaN</td>\n",
       "      <td>3.0</td>\n",
       "      <td>2.9</td>\n",
       "      <td>...</td>\n",
       "      <td>-1.0</td>\n",
       "      <td>-1.10</td>\n",
       "      <td>-1.41</td>\n",
       "      <td>25.4</td>\n",
       "      <td>18.9</td>\n",
       "      <td>36.0</td>\n",
       "      <td>82.4</td>\n",
       "      <td>48.6</td>\n",
       "      <td>40.0</td>\n",
       "      <td>38.2</td>\n",
       "    </tr>\n",
       "  </tbody>\n",
       "</table>\n",
       "<p>5 rows × 31 columns</p>\n",
       "</div>"
      ],
      "text/plain": [
       "                      category  GINI_index  happy_planet_index  \\\n",
       "0  Not automatically renounced         NaN                20.2   \n",
       "1  Not automatically renounced        29.0                36.8   \n",
       "2  Not automatically renounced        35.3                33.3   \n",
       "3          No dual citizenship         NaN                 NaN   \n",
       "4  Not automatically renounced        42.7                 NaN   \n",
       "\n",
       "   human_development_index  world_happiness_report_score  \\\n",
       "0                    0.498                          2.66   \n",
       "1                    0.785                          4.64   \n",
       "2                    0.754                          5.25   \n",
       "3                    0.858                           NaN   \n",
       "4                    0.581                           NaN   \n",
       "\n",
       "   sustainable_economic_development_assessment_(SEDA)  GDP_\\n(billions_PPP)  \\\n",
       "0                                                NaN                   64.1   \n",
       "1                                               53.1                   34.2   \n",
       "2                                               45.8                  612.5   \n",
       "3                                                NaN                    NaN   \n",
       "4                                               28.4                  187.3   \n",
       "\n",
       "   GDP_per_capita_(PPP)  GDP_growth\\n(annual_%)  \\\n",
       "0                   NaN                     1.5   \n",
       "1                   NaN                     2.6   \n",
       "2                   NaN                     3.7   \n",
       "3                   NaN                     NaN   \n",
       "4                   NaN                     3.0   \n",
       "\n",
       "   health_expenditure_\\n%_of_GDP            ...             \\\n",
       "0                           10.3            ...              \n",
       "1                            6.8            ...              \n",
       "2                            7.1            ...              \n",
       "3                           12.0            ...              \n",
       "4                            2.9            ...              \n",
       "\n",
       "   regulatory_quality  rule_of_law  control_of_corruption  \\\n",
       "0                -1.3        -1.57                  -1.52   \n",
       "1                 0.2        -0.40                  -0.42   \n",
       "2                -1.2        -0.86                  -0.61   \n",
       "3                 1.2         1.60                   1.24   \n",
       "4                -1.0        -1.10                  -1.41   \n",
       "\n",
       "   judicial_effectiveness_score  government_integrity_score  \\\n",
       "0                          28.2                        26.2   \n",
       "1                          25.4                        39.9   \n",
       "2                          35.2                        29.0   \n",
       "3                           NaN                         NaN   \n",
       "4                          25.4                        18.9   \n",
       "\n",
       "   property_rights_score  tax_burden_score  overall_economic_freedom_score  \\\n",
       "0                   17.9              91.8                            51.3   \n",
       "1                   54.1              85.1                            64.5   \n",
       "2                   27.8              74.0                            44.7   \n",
       "3                    NaN               NaN                             NaN   \n",
       "4                   36.0              82.4                            48.6   \n",
       "\n",
       "   financial_freedom_score  women_MPs_(%_of_all_MPs)  \n",
       "0                     10.0                      27.7  \n",
       "1                     70.0                      27.9  \n",
       "2                     30.0                      25.8  \n",
       "3                      NaN                      32.1  \n",
       "4                     40.0                      38.2  \n",
       "\n",
       "[5 rows x 31 columns]"
      ]
     },
     "execution_count": 50,
     "metadata": {},
     "output_type": "execute_result"
    }
   ],
   "source": [
    "#clean col names\n",
    "merged_indicator.columns = [c.replace(' ', '_') for c in merged_indicator.columns]\n",
    "#convert all col to numeric\n",
    "idx_start=list(merged_indicator.columns).index('GINI_index')\n",
    "idx_end=len(merged_indicator.columns)\n",
    "col_numeric = merged_indicator.columns[idx_start:idx_end]\n",
    "merged_indicator[col_numeric] = merged_indicator[col_numeric].apply(pd.to_numeric, errors='coerce')\n",
    "#combine the numeric col with citizenship category\n",
    "df_concat = pd.concat([merged_indicator['category'],merged_indicator[col_numeric]], axis=1)\n",
    "df_long = pd.melt(df_concat, id_vars='category', value_vars=col_numeric).dropna()\n",
    "df_concat.head()"
   ]
  },
  {
   "cell_type": "code",
   "execution_count": 62,
   "metadata": {},
   "outputs": [
    {
     "data": {
      "text/plain": [
       "Index(['category', 'GINI_index', 'happy_planet_index',\n",
       "       'human_development_index', 'world_happiness_report_score',\n",
       "       'sustainable_economic_development_assessment_(SEDA)',\n",
       "       'GDP_\\n(billions_PPP)', 'GDP_per_capita_(PPP)',\n",
       "       'GDP_growth\\n(annual_%)', 'health_expenditure_\\n%_of_GDP',\n",
       "       'health_expenditure_\\nper_person', 'education_expenditure\\n%_of_GDP',\n",
       "       'education_expenditure_\\nper_person_', 'school_life_expectancy_(YEARS)',\n",
       "       'unemployment_(%)', 'government_spending_score',\n",
       "       'government_expenditure_(%_of_GDP)', 'political_rights_score_',\n",
       "       'civil_liberties_score_', 'political_stability_&_absence_of_violence',\n",
       "       'government_effectiveness', 'regulatory_quality', 'rule_of_law',\n",
       "       'control_of_corruption', 'judicial_effectiveness_score',\n",
       "       'government_integrity_score', 'property_rights_score',\n",
       "       'tax_burden_score', 'overall_economic_freedom_score',\n",
       "       'financial_freedom_score', 'women_MPs_(%_of_all_MPs)'],\n",
       "      dtype='object')"
      ]
     },
     "execution_count": 62,
     "metadata": {},
     "output_type": "execute_result"
    }
   ],
   "source": [
    "df_concat.columns"
   ]
  },
  {
   "cell_type": "code",
   "execution_count": 65,
   "metadata": {},
   "outputs": [
    {
     "data": {
      "image/png": "[encoded data removed]",
      "text/plain": [
       "<matplotlib.figure.Figure at 0x1207d8128>"
      ]
     },
     "metadata": {},
     "output_type": "display_data"
    }
   ],
   "source": [
    "p=sns.boxplot(x=\"category\", y='overall_economic_freedom_score', \\\n",
    "            hue=\"category\", data=df_concat)\n",
    "p.legend_.remove()"
   ]
  },
  {
   "cell_type": "code",
   "execution_count": 46,
   "metadata": {},
   "outputs": [
    {
     "data": {
      "image/png": "[encoded data removed]",
      "text/plain": [
       "<matplotlib.figure.Figure at 0x11f31a978>"
      ]
     },
     "metadata": {},
     "output_type": "display_data"
    }
   ],
   "source": [
    "p=sns.boxplot(x=\"category\", y='GINI_index', \\\n",
    "            hue=\"category\", data=merged_select)\n",
    "p.legend_.remove()"
   ]
  },
  {
   "cell_type": "code",
   "execution_count": 58,
   "metadata": {},
   "outputs": [
    {
     "data": {
      "image/png": "[encoded data removed]",
      "text/plain": [
       "<matplotlib.figure.Figure at 0x11f8e19b0>"
      ]
     },
     "metadata": {},
     "output_type": "display_data"
    }
   ],
   "source": [
    "p=sns.boxplot(x=\"category\", y='world_happiness_report_score', \\\n",
    "            hue=\"category\", data=merged_select)\n",
    "p.legend_.remove()"
   ]
  },
  {
   "cell_type": "markdown",
   "metadata": {},
   "source": [
    "Based on these limited stats, countries allowing dual citizenship has higher happiness, overall economic freedom and Gini index (wealth inequality). More evidence is needed to figure out why these might be the case."
   ]
  },
  {
   "cell_type": "markdown",
   "metadata": {},
   "source": [
    "## Sources"
   ]
  },
  {
   "cell_type": "markdown",
   "metadata": {},
   "source": [
    "Data source (extracted on Jan 10 2019): https://dataverse.harvard.edu/file.xhtml?persistentId=doi:10.7910/DVN/TTMZ08/NZM6Y4&version=3.0"
   ]
  },
  {
   "cell_type": "markdown",
   "metadata": {},
   "source": [
    "Code: Hannah Yan (hy151)"
   ]
  }
 ],
 "metadata": {
  "kernelspec": {
   "display_name": "Python 3",
   "language": "python",
   "name": "python3"
  },
  "language_info": {
   "codemirror_mode": {
    "name": "ipython",
    "version": 3
   },
   "file_extension": ".py",
   "mimetype": "text/x-python",
   "name": "python",
   "nbconvert_exporter": "python",
   "pygments_lexer": "ipython3",
   "version": "3.6.0"
  }
 },
 "nbformat": 4,
 "nbformat_minor": 2
}
