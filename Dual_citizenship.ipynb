{
 "cells": [
  {
   "cell_type": "markdown",
   "metadata": {},
   "source": [
    "# A History of Dual Citizenships"
   ]
  },
  {
   "cell_type": "markdown",
   "metadata": {},
   "source": [
    "To what extent has countries allowed dual citizenships and how has it changed? What unique characteristics can we glean from the countries allowing or disallowing dual citizenship schemes?   \n",
    "  \n",
    "The MACIMIDE Global Expatriate Dual Citizenship Dataset compiled the dual citizenship rules that existed in near all sovereign states of the world for the past half a centry. It contains country names, 3-letter ISO codes and describes 3 policy frameworks: \n",
    "* No dual citizenship: acquicing another citizenship leads to automatical renounciation of the original citizenship\n",
    "* Not automacally renounced: One gets to keep original citizenship, but also have the possibility to voluntarily renounce their citizenship of origin.\n",
    "* Dual citizenship: One gets to keep original citizenship, and couldn't renounce it."
   ]
  },
  {
   "cell_type": "code",
   "execution_count": null,
   "metadata": {},
   "outputs": [],
   "source": [
    "import datetime\n",
    "import pandas as pd\n",
    "import numpy as np\n",
    "import matplotlib.pyplot as plt\n",
    "import matplotlib.ticker as mtick\n",
    "import seaborn as sns\n",
    "from ipywidgets import interact, interactive\n",
    "plt.style.use('fivethirtyeight')\n",
    "%matplotlib inline"
   ]
  },
  {
   "cell_type": "markdown",
   "metadata": {},
   "source": [
    "## Pre-processing"
   ]
  },
  {
   "cell_type": "code",
   "execution_count": null,
   "metadata": {},
   "outputs": [],
   "source": [
    "df_raw = pd.read_csv(\"multiple_citizenship_data/dual_citizenship.csv\")\n",
    "print(df_raw.shape)\n",
    "df_raw.head()"
   ]
  },
  {
   "cell_type": "code",
   "execution_count": null,
   "metadata": {},
   "outputs": [],
   "source": [
    "df = df_raw\n",
    "df['region']=df.world_region.replace(1.0,'Africa') \\\n",
    "    .replace(2.0,'Asia') \\\n",
    "    .replace(3.0,'Europe') \\\n",
    "    .replace(4.0,'LTAM') \\\n",
    "    .replace(5.0,'North America') \\\n",
    "    .replace(6.0,'Oceania') "
   ]
  },
  {
   "cell_type": "code",
   "execution_count": null,
   "metadata": {},
   "outputs": [],
   "source": [
    "def category (code):\n",
    "   #based on data codebook\n",
    "    if (code in [110,111,112]):\n",
    "        return 'No dual citizenship'\n",
    "    elif code in [210,211,212,220]:\n",
    "        return 'Not automatically renounced'\n",
    "    elif code in [310,320,330]:\n",
    "        return 'Dual citizenship'\n",
    "    else:\n",
    "        return 'Other'\n",
    "    \n",
    "df['category']=df_raw['Dualcit_cat'].map(category)"
   ]
  },
  {
   "cell_type": "code",
   "execution_count": null,
   "metadata": {},
   "outputs": [],
   "source": [
    "#number of unique countries by continents\n",
    "print(df.groupby('region')['country'].nunique())\n",
    "\n",
    "#example countries\n",
    "unique_cntry = df.groupby('region')['country'].unique()\n",
    "unique_cntry"
   ]
  },
  {
   "cell_type": "markdown",
   "metadata": {},
   "source": [
    "## Data cleaning"
   ]
  },
  {
   "cell_type": "code",
   "execution_count": null,
   "metadata": {},
   "outputs": [],
   "source": [
    "#remove countries with no info\n",
    "df=df.query('category!=\"Other\"')"
   ]
  },
  {
   "cell_type": "markdown",
   "metadata": {},
   "source": [
    "For the countries missing dual citizenship data, we'll remove them as they add no extra information, and there is no way to impute them besides manually gathering info which is beyond the scope of this analysis."
   ]
  },
  {
   "cell_type": "code",
   "execution_count": null,
   "metadata": {},
   "outputs": [],
   "source": [
    "#check for missing value\n",
    "df.isnull().sum()"
   ]
  },
  {
   "cell_type": "code",
   "execution_count": null,
   "metadata": {},
   "outputs": [],
   "source": [
    "# see which countries are missing region\n",
    "cnty_wo_region=df.loc[pd.isna(df.region),'country'].unique()\n",
    "cnty_wo_region"
   ]
  },
  {
   "cell_type": "markdown",
   "metadata": {},
   "source": [
    "These countries no longer exist today. Let's filter them out."
   ]
  },
  {
   "cell_type": "code",
   "execution_count": null,
   "metadata": {},
   "outputs": [],
   "source": [
    "df=df[~df['country'].isin(cnty_wo_region)]\n",
    "\n",
    "#final countries remained\n",
    "df['country'].nunique()"
   ]
  },
  {
   "cell_type": "code",
   "execution_count": null,
   "metadata": {},
   "outputs": [],
   "source": [
    "#years covered\n",
    "np.min(df.Year),np.max(df.Year)"
   ]
  },
  {
   "cell_type": "markdown",
   "metadata": {},
   "source": [
    "We have quite a comprehensive list of 195 countries spanning from 1960 to 2018, all having information on whether they allow dual citizenship, after removing the 5 countries missing region definition since they no longer exist. \n",
    "\n",
    "Some were missing ISO2 code or dependency code describing their subdivision, which are of no importance to this analysis."
   ]
  },
  {
   "cell_type": "markdown",
   "metadata": {},
   "source": [
    "Also worth noting, some organizations such as Quartz.com reports the 'no automatic renounciation' grouped under 'dual citizenship allowed'. Strickly speaking, it shouldn't be. This is a broad and grey category best treated on its own. For example, Canada and Singapore are both in this category, but Canadians can process multiple passports while in Singapore it is only possible up to 18 years old and by constitution dual citizenship is not allowed. For the accuracy of the analysis, we'll keep the policy in 3 categories instead of 2 categories which would otherwise result in misleadingly high numbers.   \n",
    "There are also situations where a country only allow dual citizenships with certain other countries which is beyond this dataset.   \n",
    "In addition, it might also be useful to alert to the fact that the dataset was a manual collection based on many different legislative documents and data quality cannot be inspected solely by looking at distributions."
   ]
  },
  {
   "cell_type": "markdown",
   "metadata": {},
   "source": [
    "## Latest state of the policy"
   ]
  },
  {
   "cell_type": "code",
   "execution_count": null,
   "metadata": {},
   "outputs": [],
   "source": [
    "### Percentage of countries allowing dual citizenship\n",
    "df[\"value\"]=1\n",
    "df2018=df[df['Year']==2018]\n",
    "df_smry=df2018.pivot_table(index='region',columns='category',values=\"value\",aggfunc='count', fill_value=0, margins=True)\n",
    "df_smry"
   ]
  },
  {
   "cell_type": "code",
   "execution_count": null,
   "metadata": {},
   "outputs": [],
   "source": [
    "import geopandas as gpd\n",
    "world = gpd.read_file(gpd.datasets.get_path('naturalearth_lowres'))\n",
    "\n",
    "#select only the relevant columns\n",
    "cols = ['country', 'ISO3', 'longitude','latitude','category','Year']\n",
    "df_s=df2018[cols]\n",
    "df_s.head()\n",
    "\n",
    "#join world to data\n",
    "merged18=world.merge(df_s, left_on='iso_a3',right_on='ISO3',how='inner')"
   ]
  },
  {
   "cell_type": "markdown",
   "metadata": {},
   "source": [
    "## The history of the policy"
   ]
  },
  {
   "cell_type": "markdown",
   "metadata": {},
   "source": [
    "### Percentage of countries by category globally"
   ]
  },
  {
   "cell_type": "code",
   "execution_count": null,
   "metadata": {},
   "outputs": [],
   "source": [
    "df_smry = df.pivot_table(index=['Year'],columns='category', \\\n",
    "               values=\"value\",aggfunc='count', fill_value=0, margins=1)\n",
    "df_smry_pct = df_smry.div(df_smry[\"All\"], axis='index')\n",
    "df_smry_pct.iloc[:-1,:-1].plot()\n",
    "plt.legend(loc='lower left')\n",
    "plt.title('Overall % of dual citizenship countries by year')"
   ]
  },
  {
   "cell_type": "markdown",
   "metadata": {},
   "source": [
    "### Percentage of countries strickly forbid dual citizenship by region"
   ]
  },
  {
   "cell_type": "code",
   "execution_count": null,
   "metadata": {},
   "outputs": [],
   "source": [
    "df_smry_yr = df.pivot_table(index=['Year','region'],columns='category', \\\n",
    "               values=\"value\",aggfunc='count', fill_value=0, margins=1)\n",
    "df_smry_yr_pct = df_smry_yr.div(df_smry_yr[\"All\"], axis='index')\n",
    "#Countries with strickly no dual citizenship by region\n",
    "df_region = df_smry_yr_pct.reset_index().iloc[:-1,[0,1,3]]\n",
    "#small multiples\n",
    "g=sns.relplot(x='Year', y= 'No dual citizenship', hue=\"region\", col=\"region\", \\\n",
    "            kind=\"line\", col_wrap=3,data=df_region, legend='brief')\n",
    "g.fig.suptitle('Percentage of countries disallowing dual citizenship', x=0.4, y=1.05,size=16)"
   ]
  },
  {
   "cell_type": "markdown",
   "metadata": {},
   "source": [
    "### Number of countries by category in each region"
   ]
  },
  {
   "cell_type": "code",
   "execution_count": null,
   "metadata": {},
   "outputs": [],
   "source": [
    "regional_agg = df.loc[:,['region','Year','category']].groupby(['region','Year','category']).size(). \\\n",
    "to_frame('count').reset_index()"
   ]
  },
  {
   "cell_type": "code",
   "execution_count": null,
   "metadata": {},
   "outputs": [],
   "source": [
    "g=sns.relplot(x='Year', y= 'count', hue=\"category\", col=\"region\", kind=\"line\", col_wrap=3,\\\n",
    "            data=regional_agg, legend='brief')\n",
    "g.fig.suptitle('Number of countries by category', x=0.4, y=1.05,size=16)"
   ]
  },
  {
   "cell_type": "markdown",
   "metadata": {},
   "source": [
    "Percentage of countries forbiding dual citizenship are on the decline across all regions, though much more gradual in Asia."
   ]
  },
  {
   "cell_type": "markdown",
   "metadata": {},
   "source": [
    "Unsuspectingly, Asia has the lowest percentage of countries allowing dual citizenship, even lower than Africa. The 2 countries in North America both allow it and more than 80% of countries in Latin America/Oceania allow it too."
   ]
  },
  {
   "cell_type": "code",
   "execution_count": null,
   "metadata": {},
   "outputs": [],
   "source": [
    "from matplotlib.colors import ListedColormap\n",
    "cmap = ListedColormap([\"#30a2da\", \\\n",
    "    \"#fc4f30\", \\\n",
    "    \"#e5ae38\"], name='prime')"
   ]
  },
  {
   "cell_type": "code",
   "execution_count": null,
   "metadata": {},
   "outputs": [],
   "source": [
    "#plot on map\n",
    "#1960\n",
    "fig, [ax1, ax2] = plt.subplots(nrows=1, ncols=2,figsize=(16, 4))\n",
    "#fig, ax = plt.subplots(1, figsize=(8, 6))\n",
    "ax1.axis('off')\n",
    "merged=world.merge(df[df['Year']==1960][cols], left_on='iso_a3',right_on='ISO3',how='inner')\n",
    "merged.head()\n",
    "lgnd_kwds = {'loc': 'upper left', 'ncol': 3}\n",
    "\n",
    "merged.plot(column='category',legend=True,ax=ax1,cmap=cmap, legend_kwds = lgnd_kwds)\n",
    "ax1.set_title('1960')\n",
    "\n",
    "\n",
    "#2018\n",
    "ax2.axis('off')\n",
    "#join world to data\n",
    "merged18.plot(column='category',legend=True,ax=ax2,cmap=cmap, legend_kwds = lgnd_kwds)\n",
    "ax2.set_title('2018')"
   ]
  },
  {
   "cell_type": "markdown",
   "metadata": {},
   "source": [
    "## Interactive map"
   ]
  },
  {
   "cell_type": "code",
   "execution_count": null,
   "metadata": {},
   "outputs": [],
   "source": [
    "plt.figure(figsize=(20,10)) \n",
    "def plotmap(year):\n",
    "    plt.figure(figsize=(20,10)) \n",
    "    df_select=df[df['Year']==year]\n",
    "    merged=world.merge(df_select[cols], left_on='iso_a3',right_on='ISO3',how='inner')\n",
    "    merged.plot(column='category',legend=True, cmap=cmap, legend_kwds = lgnd_kwds)\n",
    "\n",
    "    plt.show()\n",
    "    \n",
    "interactive_plot = interactive(plotmap, year=(1960, 2018))\n",
    "output = interactive_plot.children[-1]\n",
    "interactive_plot"
   ]
  },
  {
   "cell_type": "markdown",
   "metadata": {},
   "source": [
    "We can see South America had a long history of allowing dual citizenships. Till today, most of Asian Pacific countries forbid it."
   ]
  },
  {
   "cell_type": "markdown",
   "metadata": {},
   "source": [
    "The data doesn't contain info about which country pairs co-occur in dual citizenship schemes, using which we would be able to glimpse into bilateral ties, diaspora and historical liasions. \n",
    "\n",
    "Neverthess we can make some observation on what potentially differs countries granting vs not granting bilateral ties, using social-economic data."
   ]
  },
  {
   "cell_type": "markdown",
   "metadata": {},
   "source": [
    "Next we mash the original dataset with another dataset from World Government Summit containing various demographic, socialeconomic and governance indicators"
   ]
  },
  {
   "cell_type": "code",
   "execution_count": null,
   "metadata": {},
   "outputs": [],
   "source": [
    "indicators = pd.read_csv(\"multiple_citizenship_data/gov_metrics.csv\")\n",
    "print(indicators.shape)\n",
    "indicators.head()"
   ]
  },
  {
   "cell_type": "code",
   "execution_count": null,
   "metadata": {},
   "outputs": [],
   "source": [
    "#join with dual citizenship data\n",
    "merged_indicator=df2018.merge(indicators, left_on='ISO3',right_on='ISO Country code',how='inner')\n",
    "merged_indicator.head()"
   ]
  },
  {
   "cell_type": "code",
   "execution_count": null,
   "metadata": {},
   "outputs": [],
   "source": [
    "merged_indicator.groupby('category')['country'].nunique()"
   ]
  },
  {
   "cell_type": "code",
   "execution_count": null,
   "metadata": {},
   "outputs": [],
   "source": [
    "#remove column with more than half of the indicators missing\n",
    "merged_indicator=merged_indicator.loc[:,merged_indicator.isnull().mean()<0.5]"
   ]
  },
  {
   "cell_type": "code",
   "execution_count": null,
   "metadata": {},
   "outputs": [],
   "source": [
    "#clean col names\n",
    "merged_indicator.columns = [c.replace(' ', '_') for c in merged_indicator.columns]\n",
    "#convert all col to numeric\n",
    "idx_start=list(merged_indicator.columns).index('GINI_index')\n",
    "idx_end=len(merged_indicator.columns)\n",
    "col_numeric = merged_indicator.columns[idx_start:idx_end]\n",
    "merged_indicator[col_numeric] = merged_indicator[col_numeric].apply(pd.to_numeric, errors='coerce')\n",
    "#combine the numeric col with citizenship category\n",
    "df_concat = pd.concat([merged_indicator['category'],merged_indicator[col_numeric]], axis=1)\n",
    "df_long = pd.melt(df_concat, id_vars='category', value_vars=col_numeric).dropna()\n",
    "df_concat.head()"
   ]
  },
  {
   "cell_type": "code",
   "execution_count": null,
   "metadata": {},
   "outputs": [],
   "source": [
    "select=['overall_economic_freedom_score','GINI_index','world_happiness_report_score']\n",
    "dfs=df_long.loc[df_long.variable.isin(select)]"
   ]
  },
  {
   "cell_type": "code",
   "execution_count": null,
   "metadata": {},
   "outputs": [],
   "source": [
    "g=sns.catplot(x='category', y='value', col='variable', kind='box', data=dfs, sharey=False)\n",
    "g.fig.suptitle('Social economic indicators of countries allowing/disallowing dual citizenship',y=1.05, size=16)"
   ]
  },
  {
   "cell_type": "markdown",
   "metadata": {},
   "source": [
    "Based on these limited stats, countries allowing dual citizenship has higher happiness, overall economic freedom and Gini index (wealth inequality). More evidence is needed to figure out why these might be the case."
   ]
  },
  {
   "cell_type": "markdown",
   "metadata": {},
   "source": [
    "## Sources"
   ]
  },
  {
   "cell_type": "markdown",
   "metadata": {},
   "source": [
    "Data source (extracted on Jan 10 2019): https://dataverse.harvard.edu/file.xhtml?persistentId=doi:10.7910/DVN/TTMZ08/NZM6Y4&version=3.0"
   ]
  },
  {
   "cell_type": "markdown",
   "metadata": {},
   "source": [
    "Code: Hannah Yan (hy151)"
   ]
  }
 ],
 "metadata": {
  "kernelspec": {
   "display_name": "Python 3",
   "language": "python",
   "name": "python3"
  },
  "language_info": {
   "codemirror_mode": {
    "name": "ipython",
    "version": 3
   },
   "file_extension": ".py",
   "mimetype": "text/x-python",
   "name": "python",
   "nbconvert_exporter": "python",
   "pygments_lexer": "ipython3",
   "version": "3.6.0"
  }
 },
 "nbformat": 4,
 "nbformat_minor": 2
}
